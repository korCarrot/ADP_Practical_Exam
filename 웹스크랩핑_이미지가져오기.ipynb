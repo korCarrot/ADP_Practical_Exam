{
  "cells": [
    {
      "cell_type": "markdown",
      "metadata": {
        "id": "view-in-github",
        "colab_type": "text"
      },
      "source": [
        "<a href=\"https://colab.research.google.com/github/korCarrot/ADP_Practical_Exam/blob/main/%EC%9B%B9%EC%8A%A4%ED%81%AC%EB%9E%A9%ED%95%91_%EC%9D%B4%EB%AF%B8%EC%A7%80%EA%B0%80%EC%A0%B8%EC%98%A4%EA%B8%B0.ipynb\" target=\"_parent\"><img src=\"https://colab.research.google.com/assets/colab-badge.svg\" alt=\"Open In Colab\"/></a>"
      ]
    },
    {
      "cell_type": "code",
      "execution_count": null,
      "id": "9d17a7a8",
      "metadata": {
        "id": "9d17a7a8"
      },
      "outputs": [],
      "source": [
        "# 웹에서 이미지 가져오기 -> 폴더 생성 후 파일로 저장"
      ]
    },
    {
      "cell_type": "code",
      "execution_count": null,
      "id": "533f48de",
      "metadata": {
        "id": "533f48de"
      },
      "outputs": [],
      "source": [
        "# 코드 정리\n",
        "image_url = 'https://cdn.pixabay.com/photo/2024/02/28/07/42/european-shorthair-8601492_1280.jpg' # 이미지 링크(주소)\n",
        "r_status_code = requests.get(image_url) # 이미지 주소의 HTTP 응답 객체\n",
        "\n",
        "li=image_url.split(\"/\")\n",
        "file_name=li[-1]\n",
        "down_folder='C:/ex/py/data'\n",
        "image_dir_path=Path(down_folder)\n",
        "\n",
        "if not image_dir_path.exists():\n",
        "    image_dir_path.mkdir(parents=True)\n",
        "\n",
        "image_path = image_dir_path/file_name\n",
        "with open(image_path, 'wb') as f:\n",
        "    f.write(r_status_code.content)"
      ]
    },
    {
      "cell_type": "code",
      "execution_count": null,
      "id": "556bf397",
      "metadata": {
        "id": "556bf397",
        "outputId": "5a38aac6-6a67-4aca-c42e-4471c6f692b6"
      },
      "outputs": [
        {
          "data": {
            "text/plain": [
              "<Response [200]>"
            ]
          },
          "execution_count": 1,
          "metadata": {},
          "output_type": "execute_result"
        }
      ],
      "source": [
        "import requests\n",
        "\n",
        "image_url= 'https://www.python.org/static/img/python-logo.png' #이미지 링크(주소)\n",
        "r_status_code = requests.get(image_url) #이미지 주소의 HTTP 응답 객체\n",
        "r_status_code"
      ]
    },
    {
      "cell_type": "code",
      "execution_count": null,
      "id": "099f5d3e",
      "metadata": {
        "id": "099f5d3e",
        "outputId": "dcb2ba63-2010-4e98-b43e-35d19e08fa1e"
      },
      "outputs": [
        {
          "data": {
            "text/plain": [
              "['https:', '', 'www.python.org', 'static', 'img', 'python-logo.png']"
            ]
          },
          "execution_count": 7,
          "metadata": {},
          "output_type": "execute_result"
        }
      ],
      "source": [
        "image_url.split(\"/\")"
      ]
    },
    {
      "cell_type": "code",
      "execution_count": null,
      "id": "d1dfbff1",
      "metadata": {
        "id": "d1dfbff1"
      },
      "outputs": [],
      "source": [
        "li=image_url.split(\"/\")"
      ]
    },
    {
      "cell_type": "code",
      "execution_count": null,
      "id": "e660db76",
      "metadata": {
        "id": "e660db76",
        "outputId": "1199d737-6358-4cb1-95b8-9ac01a567a80"
      },
      "outputs": [
        {
          "data": {
            "text/plain": [
              "'python-logo.png'"
            ]
          },
          "execution_count": 9,
          "metadata": {},
          "output_type": "execute_result"
        }
      ],
      "source": [
        "li[-1]"
      ]
    },
    {
      "cell_type": "code",
      "execution_count": null,
      "id": "7afefffd",
      "metadata": {
        "id": "7afefffd"
      },
      "outputs": [],
      "source": [
        "import os"
      ]
    },
    {
      "cell_type": "code",
      "execution_count": null,
      "id": "16a2dd58",
      "metadata": {
        "id": "16a2dd58"
      },
      "outputs": [],
      "source": [
        "image_name=os.path.basename(image_url)"
      ]
    },
    {
      "cell_type": "code",
      "execution_count": null,
      "id": "a9a4a815",
      "metadata": {
        "id": "a9a4a815",
        "outputId": "c996e6c1-9a33-4a0a-dc8e-9399ef43d920"
      },
      "outputs": [
        {
          "name": "stdout",
          "output_type": "stream",
          "text": [
            "이미지 파일의 이름:  python-logo.png\n"
          ]
        }
      ],
      "source": [
        "print(\"이미지 파일의 이름: \", image_name)"
      ]
    },
    {
      "cell_type": "code",
      "execution_count": null,
      "id": "461cb1ab",
      "metadata": {
        "id": "461cb1ab",
        "outputId": "ce2de2c9-0db5-405b-a87c-dc2949f0690a"
      },
      "outputs": [
        {
          "data": {
            "text/plain": [
              "str"
            ]
          },
          "execution_count": 10,
          "metadata": {},
          "output_type": "execute_result"
        }
      ],
      "source": [
        "type(image_name)"
      ]
    },
    {
      "cell_type": "code",
      "execution_count": null,
      "id": "1366da83",
      "metadata": {
        "id": "1366da83"
      },
      "outputs": [],
      "source": [
        "from pathlib import Path"
      ]
    },
    {
      "cell_type": "code",
      "execution_count": null,
      "id": "de7d2072",
      "metadata": {
        "id": "de7d2072"
      },
      "outputs": [],
      "source": [
        "# help(Path)"
      ]
    },
    {
      "cell_type": "code",
      "execution_count": null,
      "id": "cf80fff4",
      "metadata": {
        "id": "cf80fff4"
      },
      "outputs": [],
      "source": [
        "download_folder='C:/ex1/py1/data'"
      ]
    },
    {
      "cell_type": "code",
      "execution_count": null,
      "id": "24a17e8c",
      "metadata": {
        "id": "24a17e8c"
      },
      "outputs": [],
      "source": [
        "image_dir_path=Path(download_folder)"
      ]
    },
    {
      "cell_type": "code",
      "execution_count": null,
      "id": "24efea0d",
      "metadata": {
        "id": "24efea0d",
        "outputId": "0d2fd02f-0146-43d7-8bf3-59342cdcce1f"
      },
      "outputs": [
        {
          "data": {
            "text/plain": [
              "WindowsPath('C:/ex1/py1/data')"
            ]
          },
          "execution_count": 27,
          "metadata": {},
          "output_type": "execute_result"
        }
      ],
      "source": [
        "image_dir_path"
      ]
    },
    {
      "cell_type": "code",
      "execution_count": null,
      "id": "3ddaab75",
      "metadata": {
        "id": "3ddaab75",
        "outputId": "f355b35b-fc1d-41c6-a023-a31d0675d23b"
      },
      "outputs": [
        {
          "data": {
            "text/plain": [
              "False"
            ]
          },
          "execution_count": 28,
          "metadata": {},
          "output_type": "execute_result"
        }
      ],
      "source": [
        "# image_dir_path.is_dir()\n",
        "image_dir_path.exists()"
      ]
    },
    {
      "cell_type": "code",
      "execution_count": null,
      "id": "1d9990d1",
      "metadata": {
        "id": "1d9990d1"
      },
      "outputs": [],
      "source": [
        "if not image_dir_path.exists():\n",
        "    image_dir_path.mkdir(parents=True, exist_ok=True)"
      ]
    },
    {
      "cell_type": "code",
      "execution_count": null,
      "id": "803ec5b5",
      "metadata": {
        "id": "803ec5b5"
      },
      "outputs": [],
      "source": [
        "file_name=li[-1]"
      ]
    },
    {
      "cell_type": "code",
      "execution_count": null,
      "id": "c1edecb2",
      "metadata": {
        "id": "c1edecb2",
        "outputId": "c079d42b-828d-4a85-ae2c-b64712ff8131"
      },
      "outputs": [
        {
          "data": {
            "text/plain": [
              "WindowsPath('C:/ex1/py1/data')"
            ]
          },
          "execution_count": 31,
          "metadata": {},
          "output_type": "execute_result"
        }
      ],
      "source": [
        "image_dir_path"
      ]
    },
    {
      "cell_type": "code",
      "execution_count": null,
      "id": "805a2aef",
      "metadata": {
        "id": "805a2aef",
        "outputId": "41cb3638-2981-42eb-d7a1-d4b26b757af2"
      },
      "outputs": [
        {
          "data": {
            "text/plain": [
              "WindowsPath('C:/ex1/py1/data/python-logo.png')"
            ]
          },
          "execution_count": 32,
          "metadata": {},
          "output_type": "execute_result"
        }
      ],
      "source": [
        "image_path = image_dir_path/file_name\n",
        "image_path"
      ]
    },
    {
      "cell_type": "code",
      "execution_count": null,
      "id": "f5e05dde",
      "metadata": {
        "id": "f5e05dde"
      },
      "outputs": [],
      "source": [
        "# r_status_code.content"
      ]
    },
    {
      "cell_type": "code",
      "execution_count": null,
      "id": "63da9f73",
      "metadata": {
        "id": "63da9f73"
      },
      "outputs": [],
      "source": [
        "# 자동으로 close()해주는 with\n",
        "with open(image_path, 'wb') as f:\n",
        "    f.write(r_status_code.content)"
      ]
    },
    {
      "cell_type": "code",
      "execution_count": null,
      "id": "3a630e84",
      "metadata": {
        "id": "3a630e84"
      },
      "outputs": [],
      "source": [
        "daum_image_url='https://t1.daumcdn.net/daumtop_deco/images/pctop/2023/logo_daum.png'"
      ]
    },
    {
      "cell_type": "code",
      "execution_count": null,
      "id": "2612feec",
      "metadata": {
        "id": "2612feec",
        "outputId": "cee29e57-a4d6-4521-ef31-b385c2a1340f"
      },
      "outputs": [
        {
          "data": {
            "text/plain": [
              "<Response [200]>"
            ]
          },
          "execution_count": 38,
          "metadata": {},
          "output_type": "execute_result"
        }
      ],
      "source": [
        "daum_image=requests.get(daum_image_url)\n",
        "daum_image"
      ]
    },
    {
      "cell_type": "code",
      "execution_count": null,
      "id": "cb07c04b",
      "metadata": {
        "id": "cb07c04b"
      },
      "outputs": [],
      "source": [
        "list=daum_image_url.split('/')"
      ]
    },
    {
      "cell_type": "code",
      "execution_count": null,
      "id": "e9636805",
      "metadata": {
        "id": "e9636805",
        "outputId": "0dac2299-b02e-47be-e707-a4f6474beaff"
      },
      "outputs": [
        {
          "data": {
            "text/plain": [
              "'logo_daum.png'"
            ]
          },
          "execution_count": 40,
          "metadata": {},
          "output_type": "execute_result"
        }
      ],
      "source": [
        "list[-1]"
      ]
    },
    {
      "cell_type": "code",
      "execution_count": null,
      "id": "1d1ecbdc",
      "metadata": {
        "id": "1d1ecbdc",
        "outputId": "d7d0a075-3be1-4347-af8f-2a597334b02a"
      },
      "outputs": [
        {
          "data": {
            "text/plain": [
              "WindowsPath('C:/daum_test/data')"
            ]
          },
          "execution_count": 44,
          "metadata": {},
          "output_type": "execute_result"
        }
      ],
      "source": [
        "daum_folder='C:/daum_test/data'\n",
        "daum_path=Path(daum_folder)\n",
        "daum_path"
      ]
    },
    {
      "cell_type": "code",
      "execution_count": null,
      "id": "7759786c",
      "metadata": {
        "id": "7759786c"
      },
      "outputs": [],
      "source": [
        "daum_image_name=list[-1]\n",
        "daum_image_path=daum_path/daum_image_name"
      ]
    },
    {
      "cell_type": "code",
      "execution_count": null,
      "id": "ccbc95dc",
      "metadata": {
        "id": "ccbc95dc"
      },
      "outputs": [],
      "source": [
        "if not daum_path.exists():\n",
        "    daum_path.mkdir(parents=True)"
      ]
    },
    {
      "cell_type": "code",
      "execution_count": null,
      "id": "9d6bdde4",
      "metadata": {
        "id": "9d6bdde4"
      },
      "outputs": [],
      "source": [
        "with open(daum_image_path, 'wb') as f:\n",
        "    f.write(daum_image.content)"
      ]
    },
    {
      "cell_type": "code",
      "execution_count": null,
      "id": "7605f98c",
      "metadata": {
        "id": "7605f98c"
      },
      "outputs": [],
      "source": [
        "# pixabay 여러 이미지"
      ]
    },
    {
      "cell_type": "code",
      "execution_count": null,
      "id": "41eb1af4",
      "metadata": {
        "id": "41eb1af4"
      },
      "outputs": [],
      "source": [
        "# container--wYO8e 이미지 소스 경로가 있는 영역 클래스 (pixabay의 cat 검색시)"
      ]
    },
    {
      "cell_type": "code",
      "execution_count": null,
      "id": "475027da",
      "metadata": {
        "id": "475027da",
        "outputId": "1585e10a-1420-4a8c-adb1-1d082d2b4276"
      },
      "outputs": [
        {
          "data": {
            "text/plain": [
              "<Response [403]>"
            ]
          },
          "execution_count": 50,
          "metadata": {},
          "output_type": "execute_result"
        }
      ],
      "source": [
        "requests.get('https://pixabay.com/ko/images/search/cat/')"
      ]
    },
    {
      "cell_type": "code",
      "execution_count": null,
      "id": "fc941b39",
      "metadata": {
        "id": "fc941b39"
      },
      "outputs": [],
      "source": []
    }
  ],
  "metadata": {
    "kernelspec": {
      "display_name": "Python 3 (ipykernel)",
      "language": "python",
      "name": "python3"
    },
    "language_info": {
      "codemirror_mode": {
        "name": "ipython",
        "version": 3
      },
      "file_extension": ".py",
      "mimetype": "text/x-python",
      "name": "python",
      "nbconvert_exporter": "python",
      "pygments_lexer": "ipython3",
      "version": "3.11.5"
    },
    "colab": {
      "provenance": [],
      "include_colab_link": true
    }
  },
  "nbformat": 4,
  "nbformat_minor": 5
}