{
  "cells": [
    {
      "cell_type": "markdown",
      "metadata": {
        "id": "view-in-github",
        "colab_type": "text"
      },
      "source": [
        "<a href=\"https://colab.research.google.com/github/korCarrot/ADP_Practical_Exam/blob/main/%EB%8D%B0%EC%9D%B4%ED%84%B0_%EB%B6%84%EC%84%9D_%ED%94%84%EB%A1%9C%EC%A0%9D%ED%8A%B8.ipynb\" target=\"_parent\"><img src=\"https://colab.research.google.com/assets/colab-badge.svg\" alt=\"Open In Colab\"/></a>"
      ]
    },
    {
      "cell_type": "markdown",
      "id": "5f022977",
      "metadata": {
        "id": "5f022977"
      },
      "source": [
        "### 데이터 분석 프로세스"
      ]
    },
    {
      "cell_type": "code",
      "execution_count": null,
      "id": "261a1b0d",
      "metadata": {
        "id": "261a1b0d"
      },
      "outputs": [],
      "source": [
        "# 마크업 언어를 사용하기 위해서는 ESC 후 m\n",
        "import requests"
      ]
    },
    {
      "cell_type": "code",
      "execution_count": null,
      "id": "639889e3",
      "metadata": {
        "id": "639889e3"
      },
      "outputs": [],
      "source": [
        "# 깃허브의 파일 URL\n",
        "url = 'https://github.com/wikibook/python-for-data-analysis-rev/raw/master/readme.txt'"
      ]
    },
    {
      "cell_type": "code",
      "execution_count": null,
      "id": "61762040",
      "metadata": {
        "id": "61762040",
        "outputId": "3ce2df86-0b49-4a24-8e1c-7b58654f9a87"
      },
      "outputs": [
        {
          "data": {
            "text/plain": [
              "<Response [200]>"
            ]
          },
          "execution_count": 3,
          "metadata": {},
          "output_type": "execute_result"
        }
      ],
      "source": [
        "# URL에 해당하는 파일을 내려받음\n",
        "r = requests.get(url)\n",
        "r"
      ]
    },
    {
      "cell_type": "code",
      "execution_count": null,
      "id": "68cb1c56",
      "metadata": {
        "id": "68cb1c56"
      },
      "outputs": [],
      "source": [
        "# 파일을 저장할 폴더와 파일명을 지정\n",
        "file_name = 'C:/myPyCode/data/readme.txt'"
      ]
    },
    {
      "cell_type": "code",
      "execution_count": null,
      "id": "55a168ed",
      "metadata": {
        "id": "55a168ed"
      },
      "outputs": [],
      "source": [
        "# 내려받은 파일을 지정한 폴더에 저장\n",
        "with open(file_name, 'wb') as f:\n",
        "    f.write(r.content)"
      ]
    },
    {
      "cell_type": "code",
      "execution_count": null,
      "id": "de79b43c",
      "metadata": {
        "id": "de79b43c"
      },
      "outputs": [],
      "source": [
        "import os"
      ]
    },
    {
      "cell_type": "code",
      "execution_count": null,
      "id": "f78f9dfd",
      "metadata": {
        "id": "f78f9dfd",
        "outputId": "3a70f49f-beca-4d93-d468-c4a3e714fef9"
      },
      "outputs": [
        {
          "name": "stdout",
          "output_type": "stream",
          "text": [
            "연도,제품1,제품2,제품3,제품4\n",
            "2015,250,150,,\n",
            "2016,200,160,170,\n",
            "2017,150,200,100,150\n",
            "2018,120,230,130,170\n",
            "2019,,250,140,\n"
          ]
        }
      ],
      "source": [
        "!type C:\\myPyCode\\data\\missing_data_test.csv"
      ]
    },
    {
      "cell_type": "code",
      "execution_count": null,
      "id": "f486b5a7",
      "metadata": {
        "id": "f486b5a7"
      },
      "outputs": [],
      "source": [
        "import pandas as pd"
      ]
    },
    {
      "cell_type": "code",
      "execution_count": null,
      "id": "8c02d021",
      "metadata": {
        "id": "8c02d021"
      },
      "outputs": [],
      "source": [
        "# help(pd.read_csv)"
      ]
    },
    {
      "cell_type": "code",
      "execution_count": null,
      "id": "9f953da3",
      "metadata": {
        "id": "9f953da3",
        "outputId": "f9fc85e6-ef8e-4fa3-dc19-5dbd280b6782"
      },
      "outputs": [
        {
          "data": {
            "text/html": [
              "<div>\n",
              "<style scoped>\n",
              "    .dataframe tbody tr th:only-of-type {\n",
              "        vertical-align: middle;\n",
              "    }\n",
              "\n",
              "    .dataframe tbody tr th {\n",
              "        vertical-align: top;\n",
              "    }\n",
              "\n",
              "    .dataframe thead th {\n",
              "        text-align: right;\n",
              "    }\n",
              "</style>\n",
              "<table border=\"1\" class=\"dataframe\">\n",
              "  <thead>\n",
              "    <tr style=\"text-align: right;\">\n",
              "      <th></th>\n",
              "      <th>연도</th>\n",
              "      <th>제품1</th>\n",
              "      <th>제품2</th>\n",
              "      <th>제품3</th>\n",
              "      <th>제품4</th>\n",
              "    </tr>\n",
              "  </thead>\n",
              "  <tbody>\n",
              "    <tr>\n",
              "      <th>0</th>\n",
              "      <td>2015</td>\n",
              "      <td>250.0</td>\n",
              "      <td>150</td>\n",
              "      <td>NaN</td>\n",
              "      <td>NaN</td>\n",
              "    </tr>\n",
              "    <tr>\n",
              "      <th>1</th>\n",
              "      <td>2016</td>\n",
              "      <td>200.0</td>\n",
              "      <td>160</td>\n",
              "      <td>170.0</td>\n",
              "      <td>NaN</td>\n",
              "    </tr>\n",
              "    <tr>\n",
              "      <th>2</th>\n",
              "      <td>2017</td>\n",
              "      <td>150.0</td>\n",
              "      <td>200</td>\n",
              "      <td>100.0</td>\n",
              "      <td>150.0</td>\n",
              "    </tr>\n",
              "    <tr>\n",
              "      <th>3</th>\n",
              "      <td>2018</td>\n",
              "      <td>120.0</td>\n",
              "      <td>230</td>\n",
              "      <td>130.0</td>\n",
              "      <td>170.0</td>\n",
              "    </tr>\n",
              "    <tr>\n",
              "      <th>4</th>\n",
              "      <td>2019</td>\n",
              "      <td>NaN</td>\n",
              "      <td>250</td>\n",
              "      <td>140.0</td>\n",
              "      <td>NaN</td>\n",
              "    </tr>\n",
              "  </tbody>\n",
              "</table>\n",
              "</div>"
            ],
            "text/plain": [
              "     연도    제품1  제품2    제품3    제품4\n",
              "0  2015  250.0  150    NaN    NaN\n",
              "1  2016  200.0  160  170.0    NaN\n",
              "2  2017  150.0  200  100.0  150.0\n",
              "3  2018  120.0  230  130.0  170.0\n",
              "4  2019    NaN  250  140.0    NaN"
            ]
          },
          "execution_count": 86,
          "metadata": {},
          "output_type": "execute_result"
        }
      ],
      "source": [
        "data_file = \"C:/myPyCode/data/missing_data_test.csv\"\n",
        "\n",
        "# df = pd.read_csv(data_file, encoding = \"cp949\", index_col = \"연도\")\n",
        "df = pd.read_csv(data_file, encoding = \"cp949\")\n",
        "\n",
        "df"
      ]
    },
    {
      "cell_type": "code",
      "execution_count": null,
      "id": "d62ebdc8",
      "metadata": {
        "id": "d62ebdc8",
        "outputId": "a59bff40-9262-4192-d844-600686de853a"
      },
      "outputs": [
        {
          "data": {
            "text/plain": [
              "Index([2015, 2016, 2017, 2018, 2019], dtype='int64', name='연도')"
            ]
          },
          "execution_count": 122,
          "metadata": {},
          "output_type": "execute_result"
        }
      ],
      "source": [
        "df.index"
      ]
    },
    {
      "cell_type": "code",
      "execution_count": null,
      "id": "07df715c",
      "metadata": {
        "id": "07df715c"
      },
      "outputs": [],
      "source": [
        "# help(df.set_index)"
      ]
    },
    {
      "cell_type": "code",
      "execution_count": null,
      "id": "5463c8a3",
      "metadata": {
        "id": "5463c8a3",
        "outputId": "1e9a42c0-3473-424d-a832-20dcca15d2a6"
      },
      "outputs": [
        {
          "data": {
            "text/html": [
              "<div>\n",
              "<style scoped>\n",
              "    .dataframe tbody tr th:only-of-type {\n",
              "        vertical-align: middle;\n",
              "    }\n",
              "\n",
              "    .dataframe tbody tr th {\n",
              "        vertical-align: top;\n",
              "    }\n",
              "\n",
              "    .dataframe thead th {\n",
              "        text-align: right;\n",
              "    }\n",
              "</style>\n",
              "<table border=\"1\" class=\"dataframe\">\n",
              "  <thead>\n",
              "    <tr style=\"text-align: right;\">\n",
              "      <th></th>\n",
              "      <th>제품1</th>\n",
              "      <th>제품2</th>\n",
              "      <th>제품3</th>\n",
              "      <th>제품4</th>\n",
              "    </tr>\n",
              "    <tr>\n",
              "      <th>연도</th>\n",
              "      <th></th>\n",
              "      <th></th>\n",
              "      <th></th>\n",
              "      <th></th>\n",
              "    </tr>\n",
              "  </thead>\n",
              "  <tbody>\n",
              "    <tr>\n",
              "      <th>2015</th>\n",
              "      <td>250.0</td>\n",
              "      <td>150</td>\n",
              "      <td>NaN</td>\n",
              "      <td>NaN</td>\n",
              "    </tr>\n",
              "    <tr>\n",
              "      <th>2016</th>\n",
              "      <td>200.0</td>\n",
              "      <td>160</td>\n",
              "      <td>170.0</td>\n",
              "      <td>NaN</td>\n",
              "    </tr>\n",
              "    <tr>\n",
              "      <th>2017</th>\n",
              "      <td>150.0</td>\n",
              "      <td>200</td>\n",
              "      <td>100.0</td>\n",
              "      <td>150.0</td>\n",
              "    </tr>\n",
              "    <tr>\n",
              "      <th>2018</th>\n",
              "      <td>120.0</td>\n",
              "      <td>230</td>\n",
              "      <td>130.0</td>\n",
              "      <td>170.0</td>\n",
              "    </tr>\n",
              "    <tr>\n",
              "      <th>2019</th>\n",
              "      <td>NaN</td>\n",
              "      <td>250</td>\n",
              "      <td>140.0</td>\n",
              "      <td>NaN</td>\n",
              "    </tr>\n",
              "  </tbody>\n",
              "</table>\n",
              "</div>"
            ],
            "text/plain": [
              "        제품1  제품2    제품3    제품4\n",
              "연도                            \n",
              "2015  250.0  150    NaN    NaN\n",
              "2016  200.0  160  170.0    NaN\n",
              "2017  150.0  200  100.0  150.0\n",
              "2018  120.0  230  130.0  170.0\n",
              "2019    NaN  250  140.0    NaN"
            ]
          },
          "execution_count": 29,
          "metadata": {},
          "output_type": "execute_result"
        }
      ],
      "source": [
        "df.set_index('연도')"
      ]
    },
    {
      "cell_type": "code",
      "execution_count": null,
      "id": "2ca50880",
      "metadata": {
        "id": "2ca50880"
      },
      "outputs": [],
      "source": [
        "df=df.set_index('연도')"
      ]
    },
    {
      "cell_type": "code",
      "execution_count": null,
      "id": "d6c7891f",
      "metadata": {
        "id": "d6c7891f",
        "outputId": "c580c14b-4439-4777-fd23-2ab3de78ffeb"
      },
      "outputs": [
        {
          "data": {
            "text/html": [
              "<div>\n",
              "<style scoped>\n",
              "    .dataframe tbody tr th:only-of-type {\n",
              "        vertical-align: middle;\n",
              "    }\n",
              "\n",
              "    .dataframe tbody tr th {\n",
              "        vertical-align: top;\n",
              "    }\n",
              "\n",
              "    .dataframe thead th {\n",
              "        text-align: right;\n",
              "    }\n",
              "</style>\n",
              "<table border=\"1\" class=\"dataframe\">\n",
              "  <thead>\n",
              "    <tr style=\"text-align: right;\">\n",
              "      <th></th>\n",
              "      <th>제품1</th>\n",
              "      <th>제품2</th>\n",
              "      <th>제품3</th>\n",
              "      <th>제품4</th>\n",
              "    </tr>\n",
              "    <tr>\n",
              "      <th>연도</th>\n",
              "      <th></th>\n",
              "      <th></th>\n",
              "      <th></th>\n",
              "      <th></th>\n",
              "    </tr>\n",
              "  </thead>\n",
              "  <tbody>\n",
              "    <tr>\n",
              "      <th>2015</th>\n",
              "      <td>250.0</td>\n",
              "      <td>150</td>\n",
              "      <td>NaN</td>\n",
              "      <td>NaN</td>\n",
              "    </tr>\n",
              "    <tr>\n",
              "      <th>2016</th>\n",
              "      <td>200.0</td>\n",
              "      <td>160</td>\n",
              "      <td>170.0</td>\n",
              "      <td>NaN</td>\n",
              "    </tr>\n",
              "    <tr>\n",
              "      <th>2017</th>\n",
              "      <td>150.0</td>\n",
              "      <td>200</td>\n",
              "      <td>100.0</td>\n",
              "      <td>150.0</td>\n",
              "    </tr>\n",
              "    <tr>\n",
              "      <th>2018</th>\n",
              "      <td>120.0</td>\n",
              "      <td>230</td>\n",
              "      <td>130.0</td>\n",
              "      <td>170.0</td>\n",
              "    </tr>\n",
              "    <tr>\n",
              "      <th>2019</th>\n",
              "      <td>NaN</td>\n",
              "      <td>250</td>\n",
              "      <td>140.0</td>\n",
              "      <td>NaN</td>\n",
              "    </tr>\n",
              "  </tbody>\n",
              "</table>\n",
              "</div>"
            ],
            "text/plain": [
              "        제품1  제품2    제품3    제품4\n",
              "연도                            \n",
              "2015  250.0  150    NaN    NaN\n",
              "2016  200.0  160  170.0    NaN\n",
              "2017  150.0  200  100.0  150.0\n",
              "2018  120.0  230  130.0  170.0\n",
              "2019    NaN  250  140.0    NaN"
            ]
          },
          "execution_count": 32,
          "metadata": {},
          "output_type": "execute_result"
        }
      ],
      "source": [
        "df"
      ]
    },
    {
      "cell_type": "code",
      "execution_count": null,
      "id": "126a80fc",
      "metadata": {
        "id": "126a80fc",
        "outputId": "075683fc-b1c5-47a4-b28b-5f4377a7e6ec"
      },
      "outputs": [
        {
          "data": {
            "text/plain": [
              "Index([2015, 2016, 2017, 2018, 2019], dtype='int64', name='연도')"
            ]
          },
          "execution_count": 37,
          "metadata": {},
          "output_type": "execute_result"
        }
      ],
      "source": [
        "df.index"
      ]
    },
    {
      "cell_type": "code",
      "execution_count": null,
      "id": "04d9034c",
      "metadata": {
        "id": "04d9034c",
        "outputId": "73ac5c0a-e3ec-41af-89bf-90c1ff22c009"
      },
      "outputs": [
        {
          "data": {
            "text/plain": [
              "250.0"
            ]
          },
          "execution_count": 40,
          "metadata": {},
          "output_type": "execute_result"
        }
      ],
      "source": [
        "df.loc[2015, '제품1']"
      ]
    },
    {
      "cell_type": "code",
      "execution_count": null,
      "id": "8ddb7f90",
      "metadata": {
        "id": "8ddb7f90",
        "outputId": "3bbad5e5-2243-44ca-83a0-2ce0890e4389"
      },
      "outputs": [
        {
          "data": {
            "text/html": [
              "<div>\n",
              "<style scoped>\n",
              "    .dataframe tbody tr th:only-of-type {\n",
              "        vertical-align: middle;\n",
              "    }\n",
              "\n",
              "    .dataframe tbody tr th {\n",
              "        vertical-align: top;\n",
              "    }\n",
              "\n",
              "    .dataframe thead th {\n",
              "        text-align: right;\n",
              "    }\n",
              "</style>\n",
              "<table border=\"1\" class=\"dataframe\">\n",
              "  <thead>\n",
              "    <tr style=\"text-align: right;\">\n",
              "      <th></th>\n",
              "      <th>제품3</th>\n",
              "      <th>제품4</th>\n",
              "    </tr>\n",
              "    <tr>\n",
              "      <th>연도</th>\n",
              "      <th></th>\n",
              "      <th></th>\n",
              "    </tr>\n",
              "  </thead>\n",
              "  <tbody>\n",
              "    <tr>\n",
              "      <th>2015</th>\n",
              "      <td>NaN</td>\n",
              "      <td>NaN</td>\n",
              "    </tr>\n",
              "    <tr>\n",
              "      <th>2016</th>\n",
              "      <td>170.0</td>\n",
              "      <td>NaN</td>\n",
              "    </tr>\n",
              "    <tr>\n",
              "      <th>2017</th>\n",
              "      <td>100.0</td>\n",
              "      <td>150.0</td>\n",
              "    </tr>\n",
              "  </tbody>\n",
              "</table>\n",
              "</div>"
            ],
            "text/plain": [
              "        제품3    제품4\n",
              "연도                \n",
              "2015    NaN    NaN\n",
              "2016  170.0    NaN\n",
              "2017  100.0  150.0"
            ]
          },
          "execution_count": 41,
          "metadata": {},
          "output_type": "execute_result"
        }
      ],
      "source": [
        "df.loc[[2015,2016,2017],['제품3','제품4']]"
      ]
    },
    {
      "cell_type": "code",
      "execution_count": null,
      "id": "af4d6600",
      "metadata": {
        "id": "af4d6600",
        "outputId": "2fa5755b-64ab-4ce9-db0e-0a5d391c229c"
      },
      "outputs": [
        {
          "data": {
            "text/plain": [
              "연도     2017.0\n",
              "제품1     150.0\n",
              "제품2     200.0\n",
              "제품3     100.0\n",
              "제품4     150.0\n",
              "Name: 2, dtype: float64"
            ]
          },
          "execution_count": 22,
          "metadata": {},
          "output_type": "execute_result"
        }
      ],
      "source": [
        "df.iloc[2]"
      ]
    },
    {
      "cell_type": "code",
      "execution_count": null,
      "id": "4a5e9b80",
      "metadata": {
        "id": "4a5e9b80",
        "outputId": "cd639d26-3191-4baf-aa76-2215b2b1f21c"
      },
      "outputs": [
        {
          "data": {
            "text/plain": [
              "연도     2017.0\n",
              "제품1     150.0\n",
              "제품2     200.0\n",
              "제품3     100.0\n",
              "제품4     150.0\n",
              "Name: 2, dtype: float64"
            ]
          },
          "execution_count": 23,
          "metadata": {},
          "output_type": "execute_result"
        }
      ],
      "source": [
        "df.iloc[2,]"
      ]
    },
    {
      "cell_type": "code",
      "execution_count": null,
      "id": "8d56aa0e",
      "metadata": {
        "id": "8d56aa0e",
        "outputId": "2feceefa-7bf9-499a-d481-045af3590e51"
      },
      "outputs": [
        {
          "data": {
            "text/html": [
              "<div>\n",
              "<style scoped>\n",
              "    .dataframe tbody tr th:only-of-type {\n",
              "        vertical-align: middle;\n",
              "    }\n",
              "\n",
              "    .dataframe tbody tr th {\n",
              "        vertical-align: top;\n",
              "    }\n",
              "\n",
              "    .dataframe thead th {\n",
              "        text-align: right;\n",
              "    }\n",
              "</style>\n",
              "<table border=\"1\" class=\"dataframe\">\n",
              "  <thead>\n",
              "    <tr style=\"text-align: right;\">\n",
              "      <th></th>\n",
              "      <th>연도</th>\n",
              "      <th>제품1</th>\n",
              "      <th>제품2</th>\n",
              "      <th>제품3</th>\n",
              "      <th>제품4</th>\n",
              "    </tr>\n",
              "  </thead>\n",
              "  <tbody>\n",
              "    <tr>\n",
              "      <th>2</th>\n",
              "      <td>2017</td>\n",
              "      <td>150.0</td>\n",
              "      <td>200</td>\n",
              "      <td>100.0</td>\n",
              "      <td>150.0</td>\n",
              "    </tr>\n",
              "    <tr>\n",
              "      <th>3</th>\n",
              "      <td>2018</td>\n",
              "      <td>120.0</td>\n",
              "      <td>230</td>\n",
              "      <td>130.0</td>\n",
              "      <td>170.0</td>\n",
              "    </tr>\n",
              "  </tbody>\n",
              "</table>\n",
              "</div>"
            ],
            "text/plain": [
              "     연도    제품1  제품2    제품3    제품4\n",
              "2  2017  150.0  200  100.0  150.0\n",
              "3  2018  120.0  230  130.0  170.0"
            ]
          },
          "execution_count": 24,
          "metadata": {},
          "output_type": "execute_result"
        }
      ],
      "source": [
        "# 2행부터 3행까지\n",
        "df.iloc[2:4,]"
      ]
    },
    {
      "cell_type": "code",
      "execution_count": null,
      "id": "2ebc19cf",
      "metadata": {
        "id": "2ebc19cf",
        "outputId": "f7320e36-5aaf-41db-df18-bd1cccb14a7f"
      },
      "outputs": [
        {
          "data": {
            "text/html": [
              "<div>\n",
              "<style scoped>\n",
              "    .dataframe tbody tr th:only-of-type {\n",
              "        vertical-align: middle;\n",
              "    }\n",
              "\n",
              "    .dataframe tbody tr th {\n",
              "        vertical-align: top;\n",
              "    }\n",
              "\n",
              "    .dataframe thead th {\n",
              "        text-align: right;\n",
              "    }\n",
              "</style>\n",
              "<table border=\"1\" class=\"dataframe\">\n",
              "  <thead>\n",
              "    <tr style=\"text-align: right;\">\n",
              "      <th></th>\n",
              "      <th>제품2</th>\n",
              "      <th>제품3</th>\n",
              "    </tr>\n",
              "  </thead>\n",
              "  <tbody>\n",
              "    <tr>\n",
              "      <th>2</th>\n",
              "      <td>200</td>\n",
              "      <td>100.0</td>\n",
              "    </tr>\n",
              "    <tr>\n",
              "      <th>3</th>\n",
              "      <td>230</td>\n",
              "      <td>130.0</td>\n",
              "    </tr>\n",
              "  </tbody>\n",
              "</table>\n",
              "</div>"
            ],
            "text/plain": [
              "   제품2    제품3\n",
              "2  200  100.0\n",
              "3  230  130.0"
            ]
          },
          "execution_count": 25,
          "metadata": {},
          "output_type": "execute_result"
        }
      ],
      "source": [
        "df.iloc[2:4,2:4]"
      ]
    },
    {
      "cell_type": "code",
      "execution_count": null,
      "id": "7d72b8a6",
      "metadata": {
        "id": "7d72b8a6",
        "outputId": "97f22637-39c3-45cf-e16d-1728949a75fd"
      },
      "outputs": [
        {
          "data": {
            "text/html": [
              "<div>\n",
              "<style scoped>\n",
              "    .dataframe tbody tr th:only-of-type {\n",
              "        vertical-align: middle;\n",
              "    }\n",
              "\n",
              "    .dataframe tbody tr th {\n",
              "        vertical-align: top;\n",
              "    }\n",
              "\n",
              "    .dataframe thead th {\n",
              "        text-align: right;\n",
              "    }\n",
              "</style>\n",
              "<table border=\"1\" class=\"dataframe\">\n",
              "  <thead>\n",
              "    <tr style=\"text-align: right;\">\n",
              "      <th></th>\n",
              "      <th>제품3</th>\n",
              "      <th>제품4</th>\n",
              "    </tr>\n",
              "  </thead>\n",
              "  <tbody>\n",
              "    <tr>\n",
              "      <th>0</th>\n",
              "      <td>NaN</td>\n",
              "      <td>NaN</td>\n",
              "    </tr>\n",
              "    <tr>\n",
              "      <th>1</th>\n",
              "      <td>170.0</td>\n",
              "      <td>NaN</td>\n",
              "    </tr>\n",
              "    <tr>\n",
              "      <th>2</th>\n",
              "      <td>100.0</td>\n",
              "      <td>150.0</td>\n",
              "    </tr>\n",
              "  </tbody>\n",
              "</table>\n",
              "</div>"
            ],
            "text/plain": [
              "     제품3    제품4\n",
              "0    NaN    NaN\n",
              "1  170.0    NaN\n",
              "2  100.0  150.0"
            ]
          },
          "execution_count": 27,
          "metadata": {},
          "output_type": "execute_result"
        }
      ],
      "source": [
        "df.iloc[0:3, 3:5]"
      ]
    },
    {
      "cell_type": "code",
      "execution_count": null,
      "id": "3251db5f",
      "metadata": {
        "id": "3251db5f",
        "outputId": "8037a180-9512-494f-8252-8ff5b23216d6"
      },
      "outputs": [
        {
          "data": {
            "text/plain": [
              "pandas.core.frame.DataFrame"
            ]
          },
          "execution_count": 14,
          "metadata": {},
          "output_type": "execute_result"
        }
      ],
      "source": [
        "type(df)"
      ]
    },
    {
      "cell_type": "code",
      "execution_count": null,
      "id": "799381f6",
      "metadata": {
        "id": "799381f6",
        "outputId": "014728ce-2d12-4f25-d1b9-64d7d0912c34"
      },
      "outputs": [
        {
          "data": {
            "text/plain": [
              "RangeIndex(start=0, stop=5, step=1)"
            ]
          },
          "execution_count": 15,
          "metadata": {},
          "output_type": "execute_result"
        }
      ],
      "source": [
        "df.index"
      ]
    },
    {
      "cell_type": "code",
      "execution_count": null,
      "id": "bb7edd14",
      "metadata": {
        "id": "bb7edd14",
        "outputId": "59aec085-abce-4fbb-f58a-5bc5c31c619b"
      },
      "outputs": [
        {
          "data": {
            "text/plain": [
              "제품1    250.0\n",
              "제품2    150.0\n",
              "제품3      NaN\n",
              "제품4      NaN\n",
              "Name: 2015, dtype: float64"
            ]
          },
          "execution_count": 42,
          "metadata": {},
          "output_type": "execute_result"
        }
      ],
      "source": [
        "# integer location\n",
        "df.iloc[0]"
      ]
    },
    {
      "cell_type": "code",
      "execution_count": null,
      "id": "af6ca310",
      "metadata": {
        "id": "af6ca310",
        "outputId": "a440af54-d533-4061-8799-32cab53f6bdc"
      },
      "outputs": [
        {
          "data": {
            "text/plain": [
              "pandas.core.series.Series"
            ]
          },
          "execution_count": 18,
          "metadata": {},
          "output_type": "execute_result"
        }
      ],
      "source": [
        "type(df.iloc[0]) #Series란 인덱스가 있는 배열"
      ]
    },
    {
      "cell_type": "code",
      "execution_count": null,
      "id": "d373866b",
      "metadata": {
        "id": "d373866b",
        "outputId": "6ffb10ce-d7ed-416a-dfe0-ac66c97211ed"
      },
      "outputs": [
        {
          "data": {
            "text/plain": [
              "Index(['연도', '제품1', '제품2', '제품3', '제품4'], dtype='object')"
            ]
          },
          "execution_count": 19,
          "metadata": {},
          "output_type": "execute_result"
        }
      ],
      "source": [
        "df.iloc[0].index"
      ]
    },
    {
      "cell_type": "code",
      "execution_count": null,
      "id": "873cba67",
      "metadata": {
        "id": "873cba67",
        "outputId": "04501948-198d-4770-c6d8-e764867b5f4c"
      },
      "outputs": [
        {
          "data": {
            "text/plain": [
              "0    2015\n",
              "1    2016\n",
              "2    2017\n",
              "3    2018\n",
              "4    2019\n",
              "Name: 연도, dtype: int64"
            ]
          },
          "execution_count": 20,
          "metadata": {},
          "output_type": "execute_result"
        }
      ],
      "source": [
        "df.연도"
      ]
    },
    {
      "cell_type": "code",
      "execution_count": null,
      "id": "2b2178cc",
      "metadata": {
        "id": "2b2178cc",
        "outputId": "2af08cf9-dae3-4e76-c40c-6377a8415f6e"
      },
      "outputs": [
        {
          "data": {
            "text/plain": [
              "0    2015\n",
              "1    2016\n",
              "2    2017\n",
              "3    2018\n",
              "4    2019\n",
              "Name: 연도, dtype: int64"
            ]
          },
          "execution_count": 21,
          "metadata": {},
          "output_type": "execute_result"
        }
      ],
      "source": [
        "df['연도']"
      ]
    },
    {
      "cell_type": "code",
      "execution_count": null,
      "id": "e2b67374",
      "metadata": {
        "id": "e2b67374",
        "outputId": "36a09754-d97d-4e21-8517-664e207f8884"
      },
      "outputs": [
        {
          "data": {
            "text/html": [
              "<div>\n",
              "<style scoped>\n",
              "    .dataframe tbody tr th:only-of-type {\n",
              "        vertical-align: middle;\n",
              "    }\n",
              "\n",
              "    .dataframe tbody tr th {\n",
              "        vertical-align: top;\n",
              "    }\n",
              "\n",
              "    .dataframe thead th {\n",
              "        text-align: right;\n",
              "    }\n",
              "</style>\n",
              "<table border=\"1\" class=\"dataframe\">\n",
              "  <thead>\n",
              "    <tr style=\"text-align: right;\">\n",
              "      <th></th>\n",
              "      <th>제품1</th>\n",
              "      <th>제품2</th>\n",
              "      <th>제품3</th>\n",
              "      <th>제품4</th>\n",
              "    </tr>\n",
              "  </thead>\n",
              "  <tbody>\n",
              "    <tr>\n",
              "      <th>count</th>\n",
              "      <td>4.000000</td>\n",
              "      <td>5.000000</td>\n",
              "      <td>4.000000</td>\n",
              "      <td>2.000000</td>\n",
              "    </tr>\n",
              "    <tr>\n",
              "      <th>mean</th>\n",
              "      <td>180.000000</td>\n",
              "      <td>198.000000</td>\n",
              "      <td>135.000000</td>\n",
              "      <td>160.000000</td>\n",
              "    </tr>\n",
              "    <tr>\n",
              "      <th>std</th>\n",
              "      <td>57.154761</td>\n",
              "      <td>43.243497</td>\n",
              "      <td>28.867513</td>\n",
              "      <td>14.142136</td>\n",
              "    </tr>\n",
              "    <tr>\n",
              "      <th>min</th>\n",
              "      <td>120.000000</td>\n",
              "      <td>150.000000</td>\n",
              "      <td>100.000000</td>\n",
              "      <td>150.000000</td>\n",
              "    </tr>\n",
              "    <tr>\n",
              "      <th>25%</th>\n",
              "      <td>142.500000</td>\n",
              "      <td>160.000000</td>\n",
              "      <td>122.500000</td>\n",
              "      <td>155.000000</td>\n",
              "    </tr>\n",
              "    <tr>\n",
              "      <th>50%</th>\n",
              "      <td>175.000000</td>\n",
              "      <td>200.000000</td>\n",
              "      <td>135.000000</td>\n",
              "      <td>160.000000</td>\n",
              "    </tr>\n",
              "    <tr>\n",
              "      <th>75%</th>\n",
              "      <td>212.500000</td>\n",
              "      <td>230.000000</td>\n",
              "      <td>147.500000</td>\n",
              "      <td>165.000000</td>\n",
              "    </tr>\n",
              "    <tr>\n",
              "      <th>max</th>\n",
              "      <td>250.000000</td>\n",
              "      <td>250.000000</td>\n",
              "      <td>170.000000</td>\n",
              "      <td>170.000000</td>\n",
              "    </tr>\n",
              "  </tbody>\n",
              "</table>\n",
              "</div>"
            ],
            "text/plain": [
              "              제품1         제품2         제품3         제품4\n",
              "count    4.000000    5.000000    4.000000    2.000000\n",
              "mean   180.000000  198.000000  135.000000  160.000000\n",
              "std     57.154761   43.243497   28.867513   14.142136\n",
              "min    120.000000  150.000000  100.000000  150.000000\n",
              "25%    142.500000  160.000000  122.500000  155.000000\n",
              "50%    175.000000  200.000000  135.000000  160.000000\n",
              "75%    212.500000  230.000000  147.500000  165.000000\n",
              "max    250.000000  250.000000  170.000000  170.000000"
            ]
          },
          "execution_count": 62,
          "metadata": {},
          "output_type": "execute_result"
        }
      ],
      "source": [
        "df.describe()\n",
        "# mean이 평균\n",
        "# std가 표준편차"
      ]
    },
    {
      "cell_type": "code",
      "execution_count": null,
      "id": "bf532337",
      "metadata": {
        "id": "bf532337",
        "outputId": "d3aa04ca-ce61-4a67-a223-4ae13083e5f7"
      },
      "outputs": [
        {
          "data": {
            "text/plain": [
              "제품1    150.0\n",
              "제품2    200.0\n",
              "제품3    100.0\n",
              "제품4    150.0\n",
              "Name: 2017, dtype: float64"
            ]
          },
          "execution_count": 44,
          "metadata": {},
          "output_type": "execute_result"
        }
      ],
      "source": [
        "df.loc[2017]"
      ]
    },
    {
      "cell_type": "code",
      "execution_count": null,
      "id": "8dad023a",
      "metadata": {
        "id": "8dad023a",
        "outputId": "3ed99d1a-1792-4a7e-a18d-43fa6d9abd43"
      },
      "outputs": [
        {
          "data": {
            "text/plain": [
              "Index(['제품1', '제품2', '제품3', '제품4'], dtype='object')"
            ]
          },
          "execution_count": 46,
          "metadata": {},
          "output_type": "execute_result"
        }
      ],
      "source": [
        "df.loc[2017].index"
      ]
    },
    {
      "cell_type": "code",
      "execution_count": null,
      "id": "523e923d",
      "metadata": {
        "id": "523e923d",
        "outputId": "84884d58-507e-4253-d6aa-2eefc5a03f3c"
      },
      "outputs": [
        {
          "data": {
            "text/plain": [
              "array([150., 200., 100., 150.])"
            ]
          },
          "execution_count": 45,
          "metadata": {},
          "output_type": "execute_result"
        }
      ],
      "source": [
        "df.loc[2017].values"
      ]
    },
    {
      "cell_type": "code",
      "execution_count": null,
      "id": "5bf01e59",
      "metadata": {
        "id": "5bf01e59"
      },
      "outputs": [],
      "source": [
        "# 평균\n",
        "avg = (150+200+100+150) / 4"
      ]
    },
    {
      "cell_type": "code",
      "execution_count": null,
      "id": "ad0ec2f2",
      "metadata": {
        "scrolled": true,
        "id": "ad0ec2f2",
        "outputId": "c6de7199-9b23-4679-da74-78804ec28079"
      },
      "outputs": [
        {
          "data": {
            "text/plain": [
              "150.0"
            ]
          },
          "execution_count": 48,
          "metadata": {},
          "output_type": "execute_result"
        }
      ],
      "source": [
        "avg"
      ]
    },
    {
      "cell_type": "code",
      "execution_count": null,
      "id": "0a00f212",
      "metadata": {
        "id": "0a00f212",
        "outputId": "2b0e42fc-1011-4132-f027-31ced0fd2e03"
      },
      "outputs": [
        {
          "data": {
            "text/plain": [
              "연도\n",
              "2015    150\n",
              "2016    160\n",
              "2017    200\n",
              "2018    230\n",
              "2019    250\n",
              "Name: 제품2, dtype: int64"
            ]
          },
          "execution_count": 49,
          "metadata": {},
          "output_type": "execute_result"
        }
      ],
      "source": [
        "df.제품2"
      ]
    },
    {
      "cell_type": "code",
      "execution_count": null,
      "id": "67a80e76",
      "metadata": {
        "id": "67a80e76"
      },
      "outputs": [],
      "source": [
        "import numpy as np"
      ]
    },
    {
      "cell_type": "code",
      "execution_count": null,
      "id": "63dd0ebc",
      "metadata": {
        "id": "63dd0ebc",
        "outputId": "a0666c90-1a34-40c8-a1bd-fc18f0dcd226"
      },
      "outputs": [
        {
          "data": {
            "text/plain": [
              "198.0"
            ]
          },
          "execution_count": 52,
          "metadata": {},
          "output_type": "execute_result"
        }
      ],
      "source": [
        "np.mean(df.제품2)"
      ]
    },
    {
      "cell_type": "code",
      "execution_count": null,
      "id": "98ac8b23",
      "metadata": {
        "id": "98ac8b23"
      },
      "outputs": [],
      "source": [
        "avg=np.mean(df.제품2)"
      ]
    },
    {
      "cell_type": "code",
      "execution_count": null,
      "id": "e163f946",
      "metadata": {
        "id": "e163f946",
        "outputId": "adc7adc9-79b8-4ca4-980e-48e1a72472f0"
      },
      "outputs": [
        {
          "data": {
            "text/plain": [
              "array([150, 160, 200, 230, 250], dtype=int64)"
            ]
          },
          "execution_count": 54,
          "metadata": {},
          "output_type": "execute_result"
        }
      ],
      "source": [
        "df.제품2.values"
      ]
    },
    {
      "cell_type": "code",
      "execution_count": null,
      "id": "5b546c84",
      "metadata": {
        "id": "5b546c84"
      },
      "outputs": [],
      "source": [
        "# 편차 (deviation)"
      ]
    },
    {
      "cell_type": "code",
      "execution_count": null,
      "id": "3f7fa689",
      "metadata": {
        "id": "3f7fa689"
      },
      "outputs": [],
      "source": [
        "deviation=avg-df.제품2.values"
      ]
    },
    {
      "cell_type": "code",
      "execution_count": null,
      "id": "2fd4318f",
      "metadata": {
        "id": "2fd4318f",
        "outputId": "7716e229-daaf-40d0-8250-49727ccefa1e"
      },
      "outputs": [
        {
          "data": {
            "text/plain": [
              "array([ 48.,  38.,  -2., -32., -52.])"
            ]
          },
          "execution_count": 58,
          "metadata": {},
          "output_type": "execute_result"
        }
      ],
      "source": [
        "deviation"
      ]
    },
    {
      "cell_type": "code",
      "execution_count": null,
      "id": "37e71ea5",
      "metadata": {
        "id": "37e71ea5"
      },
      "outputs": [],
      "source": [
        "# 표준편차(standard deviation) 43.243497\n",
        "# 분산(variation)에다가 제곱근 -> 표준편차\n",
        "\n",
        "# 분산(편차x제곱/모집단 수)\n",
        "# 표본 분산(편차x제곱/모집단 수-1)"
      ]
    },
    {
      "cell_type": "code",
      "execution_count": null,
      "id": "2e5eb39d",
      "metadata": {
        "id": "2e5eb39d",
        "outputId": "b98f38d0-593d-42da-fba7-48153007b0c6"
      },
      "outputs": [
        {
          "data": {
            "text/plain": [
              "array([2304., 1444.,    4., 1024., 2704.])"
            ]
          },
          "execution_count": 59,
          "metadata": {},
          "output_type": "execute_result"
        }
      ],
      "source": [
        "deviation**2"
      ]
    },
    {
      "cell_type": "code",
      "execution_count": null,
      "id": "edf9db62",
      "metadata": {
        "id": "edf9db62",
        "outputId": "ff778575-609c-476e-e93d-40b0f69b417f"
      },
      "outputs": [
        {
          "data": {
            "text/plain": [
              "7480.0"
            ]
          },
          "execution_count": 60,
          "metadata": {},
          "output_type": "execute_result"
        }
      ],
      "source": [
        "np.sum(deviation**2)"
      ]
    },
    {
      "cell_type": "code",
      "execution_count": null,
      "id": "03523e4e",
      "metadata": {
        "id": "03523e4e",
        "outputId": "13f38f7d-9ff7-4a3f-861e-c03ad1bb17e5"
      },
      "outputs": [
        {
          "data": {
            "text/plain": [
              "1496.0"
            ]
          },
          "execution_count": 68,
          "metadata": {},
          "output_type": "execute_result"
        }
      ],
      "source": [
        "np.sum(deviation**2)/5"
      ]
    },
    {
      "cell_type": "code",
      "execution_count": null,
      "id": "463e6035",
      "metadata": {
        "id": "463e6035",
        "outputId": "0e2028ca-af02-4c57-a555-af9e65fb2450"
      },
      "outputs": [
        {
          "data": {
            "text/plain": [
              "1870.0"
            ]
          },
          "execution_count": 69,
          "metadata": {},
          "output_type": "execute_result"
        }
      ],
      "source": [
        "np.sum(deviation**2)/4"
      ]
    },
    {
      "cell_type": "code",
      "execution_count": null,
      "id": "6fae9c17",
      "metadata": {
        "id": "6fae9c17",
        "outputId": "53ba9a63-6990-4e94-b260-178252581d37"
      },
      "outputs": [
        {
          "data": {
            "text/plain": [
              "1870.0"
            ]
          },
          "execution_count": 63,
          "metadata": {},
          "output_type": "execute_result"
        }
      ],
      "source": [
        "df.제품2.var()"
      ]
    },
    {
      "cell_type": "code",
      "execution_count": null,
      "id": "63073731",
      "metadata": {
        "id": "63073731",
        "outputId": "e610acbe-c221-4ce3-fa14-9bc939ebdab9"
      },
      "outputs": [
        {
          "data": {
            "text/plain": [
              "43.243496620879306"
            ]
          },
          "execution_count": 64,
          "metadata": {},
          "output_type": "execute_result"
        }
      ],
      "source": [
        "np.sqrt(df.제품2.var())"
      ]
    },
    {
      "cell_type": "code",
      "execution_count": null,
      "id": "68e2910b",
      "metadata": {
        "id": "68e2910b",
        "outputId": "43ec51bb-cde8-4101-ea26-052f266ce2c9"
      },
      "outputs": [
        {
          "data": {
            "text/html": [
              "<div>\n",
              "<style scoped>\n",
              "    .dataframe tbody tr th:only-of-type {\n",
              "        vertical-align: middle;\n",
              "    }\n",
              "\n",
              "    .dataframe tbody tr th {\n",
              "        vertical-align: top;\n",
              "    }\n",
              "\n",
              "    .dataframe thead th {\n",
              "        text-align: right;\n",
              "    }\n",
              "</style>\n",
              "<table border=\"1\" class=\"dataframe\">\n",
              "  <thead>\n",
              "    <tr style=\"text-align: right;\">\n",
              "      <th></th>\n",
              "      <th>제품1</th>\n",
              "      <th>제품2</th>\n",
              "      <th>제품3</th>\n",
              "      <th>제품4</th>\n",
              "    </tr>\n",
              "    <tr>\n",
              "      <th>연도</th>\n",
              "      <th></th>\n",
              "      <th></th>\n",
              "      <th></th>\n",
              "      <th></th>\n",
              "    </tr>\n",
              "  </thead>\n",
              "  <tbody>\n",
              "    <tr>\n",
              "      <th>2015</th>\n",
              "      <td>250.0</td>\n",
              "      <td>150</td>\n",
              "      <td>NaN</td>\n",
              "      <td>NaN</td>\n",
              "    </tr>\n",
              "    <tr>\n",
              "      <th>2016</th>\n",
              "      <td>200.0</td>\n",
              "      <td>160</td>\n",
              "      <td>170.0</td>\n",
              "      <td>NaN</td>\n",
              "    </tr>\n",
              "    <tr>\n",
              "      <th>2017</th>\n",
              "      <td>150.0</td>\n",
              "      <td>200</td>\n",
              "      <td>100.0</td>\n",
              "      <td>150.0</td>\n",
              "    </tr>\n",
              "    <tr>\n",
              "      <th>2018</th>\n",
              "      <td>120.0</td>\n",
              "      <td>230</td>\n",
              "      <td>130.0</td>\n",
              "      <td>170.0</td>\n",
              "    </tr>\n",
              "    <tr>\n",
              "      <th>2019</th>\n",
              "      <td>NaN</td>\n",
              "      <td>250</td>\n",
              "      <td>140.0</td>\n",
              "      <td>NaN</td>\n",
              "    </tr>\n",
              "  </tbody>\n",
              "</table>\n",
              "</div>"
            ],
            "text/plain": [
              "        제품1  제품2    제품3    제품4\n",
              "연도                            \n",
              "2015  250.0  150    NaN    NaN\n",
              "2016  200.0  160  170.0    NaN\n",
              "2017  150.0  200  100.0  150.0\n",
              "2018  120.0  230  130.0  170.0\n",
              "2019    NaN  250  140.0    NaN"
            ]
          },
          "execution_count": 71,
          "metadata": {},
          "output_type": "execute_result"
        }
      ],
      "source": [
        "df"
      ]
    },
    {
      "cell_type": "code",
      "execution_count": null,
      "id": "d6ba1be0",
      "metadata": {
        "id": "d6ba1be0",
        "outputId": "4aac860c-fb3f-49b5-f789-cbeae3d9951a"
      },
      "outputs": [
        {
          "data": {
            "text/html": [
              "<div>\n",
              "<style scoped>\n",
              "    .dataframe tbody tr th:only-of-type {\n",
              "        vertical-align: middle;\n",
              "    }\n",
              "\n",
              "    .dataframe tbody tr th {\n",
              "        vertical-align: top;\n",
              "    }\n",
              "\n",
              "    .dataframe thead th {\n",
              "        text-align: right;\n",
              "    }\n",
              "</style>\n",
              "<table border=\"1\" class=\"dataframe\">\n",
              "  <thead>\n",
              "    <tr style=\"text-align: right;\">\n",
              "      <th></th>\n",
              "      <th>제품1</th>\n",
              "      <th>제품2</th>\n",
              "      <th>제품3</th>\n",
              "      <th>제품4</th>\n",
              "    </tr>\n",
              "    <tr>\n",
              "      <th>연도</th>\n",
              "      <th></th>\n",
              "      <th></th>\n",
              "      <th></th>\n",
              "      <th></th>\n",
              "    </tr>\n",
              "  </thead>\n",
              "  <tbody>\n",
              "    <tr>\n",
              "      <th>2015</th>\n",
              "      <td>False</td>\n",
              "      <td>False</td>\n",
              "      <td>True</td>\n",
              "      <td>True</td>\n",
              "    </tr>\n",
              "    <tr>\n",
              "      <th>2016</th>\n",
              "      <td>False</td>\n",
              "      <td>False</td>\n",
              "      <td>False</td>\n",
              "      <td>True</td>\n",
              "    </tr>\n",
              "    <tr>\n",
              "      <th>2017</th>\n",
              "      <td>False</td>\n",
              "      <td>False</td>\n",
              "      <td>False</td>\n",
              "      <td>False</td>\n",
              "    </tr>\n",
              "    <tr>\n",
              "      <th>2018</th>\n",
              "      <td>False</td>\n",
              "      <td>False</td>\n",
              "      <td>False</td>\n",
              "      <td>False</td>\n",
              "    </tr>\n",
              "    <tr>\n",
              "      <th>2019</th>\n",
              "      <td>True</td>\n",
              "      <td>False</td>\n",
              "      <td>False</td>\n",
              "      <td>True</td>\n",
              "    </tr>\n",
              "  </tbody>\n",
              "</table>\n",
              "</div>"
            ],
            "text/plain": [
              "        제품1    제품2    제품3    제품4\n",
              "연도                              \n",
              "2015  False  False   True   True\n",
              "2016  False  False  False   True\n",
              "2017  False  False  False  False\n",
              "2018  False  False  False  False\n",
              "2019   True  False  False   True"
            ]
          },
          "execution_count": 73,
          "metadata": {},
          "output_type": "execute_result"
        }
      ],
      "source": [
        "# null값 체크\n",
        "df.isnull()"
      ]
    },
    {
      "cell_type": "code",
      "execution_count": null,
      "id": "59a0aa7c",
      "metadata": {
        "id": "59a0aa7c",
        "outputId": "0362672f-2d4d-499b-fd36-df7c72fa5b4f"
      },
      "outputs": [
        {
          "data": {
            "text/plain": [
              "제품1    1\n",
              "제품2    0\n",
              "제품3    1\n",
              "제품4    3\n",
              "dtype: int64"
            ]
          },
          "execution_count": 74,
          "metadata": {},
          "output_type": "execute_result"
        }
      ],
      "source": [
        "df.isnull().sum()"
      ]
    },
    {
      "cell_type": "code",
      "execution_count": null,
      "id": "82927be2",
      "metadata": {
        "id": "82927be2"
      },
      "outputs": [],
      "source": [
        "# help(df.drop)"
      ]
    },
    {
      "cell_type": "code",
      "execution_count": null,
      "id": "25b92c2f",
      "metadata": {
        "id": "25b92c2f",
        "outputId": "4e386973-3ecc-4ada-c367-d796b25c3dc4"
      },
      "outputs": [
        {
          "data": {
            "text/html": [
              "<div>\n",
              "<style scoped>\n",
              "    .dataframe tbody tr th:only-of-type {\n",
              "        vertical-align: middle;\n",
              "    }\n",
              "\n",
              "    .dataframe tbody tr th {\n",
              "        vertical-align: top;\n",
              "    }\n",
              "\n",
              "    .dataframe thead th {\n",
              "        text-align: right;\n",
              "    }\n",
              "</style>\n",
              "<table border=\"1\" class=\"dataframe\">\n",
              "  <thead>\n",
              "    <tr style=\"text-align: right;\">\n",
              "      <th></th>\n",
              "      <th>제품1</th>\n",
              "      <th>제품2</th>\n",
              "      <th>제품3</th>\n",
              "      <th>제품4</th>\n",
              "    </tr>\n",
              "    <tr>\n",
              "      <th>연도</th>\n",
              "      <th></th>\n",
              "      <th></th>\n",
              "      <th></th>\n",
              "      <th></th>\n",
              "    </tr>\n",
              "  </thead>\n",
              "  <tbody>\n",
              "    <tr>\n",
              "      <th>2015</th>\n",
              "      <td>250.0</td>\n",
              "      <td>150</td>\n",
              "      <td>NaN</td>\n",
              "      <td>NaN</td>\n",
              "    </tr>\n",
              "    <tr>\n",
              "      <th>2016</th>\n",
              "      <td>200.0</td>\n",
              "      <td>160</td>\n",
              "      <td>170.0</td>\n",
              "      <td>NaN</td>\n",
              "    </tr>\n",
              "    <tr>\n",
              "      <th>2017</th>\n",
              "      <td>150.0</td>\n",
              "      <td>200</td>\n",
              "      <td>100.0</td>\n",
              "      <td>150.0</td>\n",
              "    </tr>\n",
              "    <tr>\n",
              "      <th>2018</th>\n",
              "      <td>120.0</td>\n",
              "      <td>230</td>\n",
              "      <td>130.0</td>\n",
              "      <td>170.0</td>\n",
              "    </tr>\n",
              "  </tbody>\n",
              "</table>\n",
              "</div>"
            ],
            "text/plain": [
              "        제품1  제품2    제품3    제품4\n",
              "연도                            \n",
              "2015  250.0  150    NaN    NaN\n",
              "2016  200.0  160  170.0    NaN\n",
              "2017  150.0  200  100.0  150.0\n",
              "2018  120.0  230  130.0  170.0"
            ]
          },
          "execution_count": 77,
          "metadata": {},
          "output_type": "execute_result"
        }
      ],
      "source": [
        "df.drop(index=[2019])"
      ]
    },
    {
      "cell_type": "code",
      "execution_count": null,
      "id": "a1f39089",
      "metadata": {
        "id": "a1f39089"
      },
      "outputs": [],
      "source": [
        "df2=df.drop(index=[2019])"
      ]
    },
    {
      "cell_type": "code",
      "execution_count": null,
      "id": "9af1f1d0",
      "metadata": {
        "id": "9af1f1d0",
        "outputId": "261fe253-9fe8-4f10-8ef6-e35a707dfb27"
      },
      "outputs": [
        {
          "data": {
            "text/html": [
              "<div>\n",
              "<style scoped>\n",
              "    .dataframe tbody tr th:only-of-type {\n",
              "        vertical-align: middle;\n",
              "    }\n",
              "\n",
              "    .dataframe tbody tr th {\n",
              "        vertical-align: top;\n",
              "    }\n",
              "\n",
              "    .dataframe thead th {\n",
              "        text-align: right;\n",
              "    }\n",
              "</style>\n",
              "<table border=\"1\" class=\"dataframe\">\n",
              "  <thead>\n",
              "    <tr style=\"text-align: right;\">\n",
              "      <th></th>\n",
              "      <th>제품1</th>\n",
              "      <th>제품2</th>\n",
              "      <th>제품3</th>\n",
              "      <th>제품4</th>\n",
              "    </tr>\n",
              "    <tr>\n",
              "      <th>연도</th>\n",
              "      <th></th>\n",
              "      <th></th>\n",
              "      <th></th>\n",
              "      <th></th>\n",
              "    </tr>\n",
              "  </thead>\n",
              "  <tbody>\n",
              "    <tr>\n",
              "      <th>2015</th>\n",
              "      <td>250.0</td>\n",
              "      <td>150</td>\n",
              "      <td>NaN</td>\n",
              "      <td>NaN</td>\n",
              "    </tr>\n",
              "    <tr>\n",
              "      <th>2016</th>\n",
              "      <td>200.0</td>\n",
              "      <td>160</td>\n",
              "      <td>170.0</td>\n",
              "      <td>NaN</td>\n",
              "    </tr>\n",
              "    <tr>\n",
              "      <th>2017</th>\n",
              "      <td>150.0</td>\n",
              "      <td>200</td>\n",
              "      <td>100.0</td>\n",
              "      <td>150.0</td>\n",
              "    </tr>\n",
              "    <tr>\n",
              "      <th>2018</th>\n",
              "      <td>120.0</td>\n",
              "      <td>230</td>\n",
              "      <td>130.0</td>\n",
              "      <td>170.0</td>\n",
              "    </tr>\n",
              "  </tbody>\n",
              "</table>\n",
              "</div>"
            ],
            "text/plain": [
              "        제품1  제품2    제품3    제품4\n",
              "연도                            \n",
              "2015  250.0  150    NaN    NaN\n",
              "2016  200.0  160  170.0    NaN\n",
              "2017  150.0  200  100.0  150.0\n",
              "2018  120.0  230  130.0  170.0"
            ]
          },
          "execution_count": 89,
          "metadata": {},
          "output_type": "execute_result"
        }
      ],
      "source": [
        "df2"
      ]
    },
    {
      "cell_type": "code",
      "execution_count": null,
      "id": "ce29fa8a",
      "metadata": {
        "id": "ce29fa8a"
      },
      "outputs": [],
      "source": [
        "df3=df2.drop(columns=['제품3', '제품4'])"
      ]
    },
    {
      "cell_type": "code",
      "execution_count": null,
      "id": "802d56a7",
      "metadata": {
        "id": "802d56a7",
        "outputId": "d45be48e-06ea-4a42-d4dc-a33983cb2c41"
      },
      "outputs": [
        {
          "data": {
            "text/html": [
              "<div>\n",
              "<style scoped>\n",
              "    .dataframe tbody tr th:only-of-type {\n",
              "        vertical-align: middle;\n",
              "    }\n",
              "\n",
              "    .dataframe tbody tr th {\n",
              "        vertical-align: top;\n",
              "    }\n",
              "\n",
              "    .dataframe thead th {\n",
              "        text-align: right;\n",
              "    }\n",
              "</style>\n",
              "<table border=\"1\" class=\"dataframe\">\n",
              "  <thead>\n",
              "    <tr style=\"text-align: right;\">\n",
              "      <th></th>\n",
              "      <th>제품1</th>\n",
              "      <th>제품2</th>\n",
              "    </tr>\n",
              "    <tr>\n",
              "      <th>연도</th>\n",
              "      <th></th>\n",
              "      <th></th>\n",
              "    </tr>\n",
              "  </thead>\n",
              "  <tbody>\n",
              "    <tr>\n",
              "      <th>2015</th>\n",
              "      <td>250.0</td>\n",
              "      <td>150</td>\n",
              "    </tr>\n",
              "    <tr>\n",
              "      <th>2016</th>\n",
              "      <td>200.0</td>\n",
              "      <td>160</td>\n",
              "    </tr>\n",
              "    <tr>\n",
              "      <th>2017</th>\n",
              "      <td>150.0</td>\n",
              "      <td>200</td>\n",
              "    </tr>\n",
              "    <tr>\n",
              "      <th>2018</th>\n",
              "      <td>120.0</td>\n",
              "      <td>230</td>\n",
              "    </tr>\n",
              "  </tbody>\n",
              "</table>\n",
              "</div>"
            ],
            "text/plain": [
              "        제품1  제품2\n",
              "연도              \n",
              "2015  250.0  150\n",
              "2016  200.0  160\n",
              "2017  150.0  200\n",
              "2018  120.0  230"
            ]
          },
          "execution_count": 91,
          "metadata": {},
          "output_type": "execute_result"
        }
      ],
      "source": [
        "df3"
      ]
    },
    {
      "cell_type": "code",
      "execution_count": null,
      "id": "c98d9331",
      "metadata": {
        "id": "c98d9331"
      },
      "outputs": [],
      "source": [
        "# df.drop(index=[2018, 2019], columns=['제품3', '제품4'])"
      ]
    },
    {
      "cell_type": "code",
      "execution_count": null,
      "id": "406c3af2",
      "metadata": {
        "id": "406c3af2",
        "outputId": "d1ebf129-61f6-4027-91f6-687777d7c16e"
      },
      "outputs": [
        {
          "data": {
            "text/html": [
              "<div>\n",
              "<style scoped>\n",
              "    .dataframe tbody tr th:only-of-type {\n",
              "        vertical-align: middle;\n",
              "    }\n",
              "\n",
              "    .dataframe tbody tr th {\n",
              "        vertical-align: top;\n",
              "    }\n",
              "\n",
              "    .dataframe thead th {\n",
              "        text-align: right;\n",
              "    }\n",
              "</style>\n",
              "<table border=\"1\" class=\"dataframe\">\n",
              "  <thead>\n",
              "    <tr style=\"text-align: right;\">\n",
              "      <th></th>\n",
              "      <th>제품1</th>\n",
              "      <th>제품2</th>\n",
              "      <th>제품3</th>\n",
              "      <th>제품4</th>\n",
              "    </tr>\n",
              "    <tr>\n",
              "      <th>연도</th>\n",
              "      <th></th>\n",
              "      <th></th>\n",
              "      <th></th>\n",
              "      <th></th>\n",
              "    </tr>\n",
              "  </thead>\n",
              "  <tbody>\n",
              "    <tr>\n",
              "      <th>2015</th>\n",
              "      <td>250.0</td>\n",
              "      <td>150</td>\n",
              "      <td>NaN</td>\n",
              "      <td>NaN</td>\n",
              "    </tr>\n",
              "    <tr>\n",
              "      <th>2016</th>\n",
              "      <td>200.0</td>\n",
              "      <td>160</td>\n",
              "      <td>170.0</td>\n",
              "      <td>NaN</td>\n",
              "    </tr>\n",
              "    <tr>\n",
              "      <th>2017</th>\n",
              "      <td>150.0</td>\n",
              "      <td>200</td>\n",
              "      <td>100.0</td>\n",
              "      <td>150.0</td>\n",
              "    </tr>\n",
              "    <tr>\n",
              "      <th>2018</th>\n",
              "      <td>120.0</td>\n",
              "      <td>230</td>\n",
              "      <td>130.0</td>\n",
              "      <td>170.0</td>\n",
              "    </tr>\n",
              "    <tr>\n",
              "      <th>2019</th>\n",
              "      <td>NaN</td>\n",
              "      <td>250</td>\n",
              "      <td>140.0</td>\n",
              "      <td>NaN</td>\n",
              "    </tr>\n",
              "  </tbody>\n",
              "</table>\n",
              "</div>"
            ],
            "text/plain": [
              "        제품1  제품2    제품3    제품4\n",
              "연도                            \n",
              "2015  250.0  150    NaN    NaN\n",
              "2016  200.0  160  170.0    NaN\n",
              "2017  150.0  200  100.0  150.0\n",
              "2018  120.0  230  130.0  170.0\n",
              "2019    NaN  250  140.0    NaN"
            ]
          },
          "execution_count": 93,
          "metadata": {},
          "output_type": "execute_result"
        }
      ],
      "source": [
        "df"
      ]
    },
    {
      "cell_type": "code",
      "execution_count": null,
      "id": "53fbf4e1",
      "metadata": {
        "id": "53fbf4e1"
      },
      "outputs": [],
      "source": [
        "df_copy=df.copy()"
      ]
    },
    {
      "cell_type": "code",
      "execution_count": null,
      "id": "da34c38e",
      "metadata": {
        "id": "da34c38e",
        "outputId": "53de7832-f8e5-4851-8799-5f41adfb8146"
      },
      "outputs": [
        {
          "data": {
            "text/html": [
              "<div>\n",
              "<style scoped>\n",
              "    .dataframe tbody tr th:only-of-type {\n",
              "        vertical-align: middle;\n",
              "    }\n",
              "\n",
              "    .dataframe tbody tr th {\n",
              "        vertical-align: top;\n",
              "    }\n",
              "\n",
              "    .dataframe thead th {\n",
              "        text-align: right;\n",
              "    }\n",
              "</style>\n",
              "<table border=\"1\" class=\"dataframe\">\n",
              "  <thead>\n",
              "    <tr style=\"text-align: right;\">\n",
              "      <th></th>\n",
              "      <th>제품1</th>\n",
              "      <th>제품2</th>\n",
              "      <th>제품3</th>\n",
              "      <th>제품4</th>\n",
              "    </tr>\n",
              "    <tr>\n",
              "      <th>연도</th>\n",
              "      <th></th>\n",
              "      <th></th>\n",
              "      <th></th>\n",
              "      <th></th>\n",
              "    </tr>\n",
              "  </thead>\n",
              "  <tbody>\n",
              "    <tr>\n",
              "      <th>2015</th>\n",
              "      <td>250.0</td>\n",
              "      <td>150</td>\n",
              "      <td>NaN</td>\n",
              "      <td>NaN</td>\n",
              "    </tr>\n",
              "    <tr>\n",
              "      <th>2016</th>\n",
              "      <td>200.0</td>\n",
              "      <td>160</td>\n",
              "      <td>170.0</td>\n",
              "      <td>NaN</td>\n",
              "    </tr>\n",
              "    <tr>\n",
              "      <th>2017</th>\n",
              "      <td>150.0</td>\n",
              "      <td>200</td>\n",
              "      <td>100.0</td>\n",
              "      <td>150.0</td>\n",
              "    </tr>\n",
              "    <tr>\n",
              "      <th>2018</th>\n",
              "      <td>120.0</td>\n",
              "      <td>230</td>\n",
              "      <td>130.0</td>\n",
              "      <td>170.0</td>\n",
              "    </tr>\n",
              "    <tr>\n",
              "      <th>2019</th>\n",
              "      <td>NaN</td>\n",
              "      <td>250</td>\n",
              "      <td>140.0</td>\n",
              "      <td>NaN</td>\n",
              "    </tr>\n",
              "  </tbody>\n",
              "</table>\n",
              "</div>"
            ],
            "text/plain": [
              "        제품1  제품2    제품3    제품4\n",
              "연도                            \n",
              "2015  250.0  150    NaN    NaN\n",
              "2016  200.0  160  170.0    NaN\n",
              "2017  150.0  200  100.0  150.0\n",
              "2018  120.0  230  130.0  170.0\n",
              "2019    NaN  250  140.0    NaN"
            ]
          },
          "execution_count": 95,
          "metadata": {},
          "output_type": "execute_result"
        }
      ],
      "source": [
        "df_copy"
      ]
    },
    {
      "cell_type": "code",
      "execution_count": null,
      "id": "a92debe4",
      "metadata": {
        "id": "a92debe4",
        "outputId": "4ade4022-b1e5-47ba-f3fa-1d2d4a3abc32"
      },
      "outputs": [
        {
          "data": {
            "text/html": [
              "<div>\n",
              "<style scoped>\n",
              "    .dataframe tbody tr th:only-of-type {\n",
              "        vertical-align: middle;\n",
              "    }\n",
              "\n",
              "    .dataframe tbody tr th {\n",
              "        vertical-align: top;\n",
              "    }\n",
              "\n",
              "    .dataframe thead th {\n",
              "        text-align: right;\n",
              "    }\n",
              "</style>\n",
              "<table border=\"1\" class=\"dataframe\">\n",
              "  <thead>\n",
              "    <tr style=\"text-align: right;\">\n",
              "      <th></th>\n",
              "      <th>제품1</th>\n",
              "      <th>제품2</th>\n",
              "      <th>제품3</th>\n",
              "      <th>제품4</th>\n",
              "    </tr>\n",
              "    <tr>\n",
              "      <th>연도</th>\n",
              "      <th></th>\n",
              "      <th></th>\n",
              "      <th></th>\n",
              "      <th></th>\n",
              "    </tr>\n",
              "  </thead>\n",
              "  <tbody>\n",
              "    <tr>\n",
              "      <th>2017</th>\n",
              "      <td>150.0</td>\n",
              "      <td>200</td>\n",
              "      <td>100.0</td>\n",
              "      <td>150.0</td>\n",
              "    </tr>\n",
              "    <tr>\n",
              "      <th>2018</th>\n",
              "      <td>120.0</td>\n",
              "      <td>230</td>\n",
              "      <td>130.0</td>\n",
              "      <td>170.0</td>\n",
              "    </tr>\n",
              "  </tbody>\n",
              "</table>\n",
              "</div>"
            ],
            "text/plain": [
              "        제품1  제품2    제품3    제품4\n",
              "연도                            \n",
              "2017  150.0  200  100.0  150.0\n",
              "2018  120.0  230  130.0  170.0"
            ]
          },
          "execution_count": 100,
          "metadata": {},
          "output_type": "execute_result"
        }
      ],
      "source": [
        "# na = not available 값이 0이 아니라 비어있는 것.\n",
        "# dropna() : na인 곳 행으로 삭제 ()안에 axis=0이면 행, 1이면 열\n",
        "df_copy.dropna()"
      ]
    },
    {
      "cell_type": "code",
      "execution_count": null,
      "id": "125c6eb6",
      "metadata": {
        "id": "125c6eb6"
      },
      "outputs": [],
      "source": [
        "df_copy2=df.copy()"
      ]
    },
    {
      "cell_type": "code",
      "execution_count": null,
      "id": "19399f7f",
      "metadata": {
        "id": "19399f7f",
        "outputId": "9c957d49-6819-45dc-97e3-ee5f8a79449c"
      },
      "outputs": [
        {
          "data": {
            "text/html": [
              "<div>\n",
              "<style scoped>\n",
              "    .dataframe tbody tr th:only-of-type {\n",
              "        vertical-align: middle;\n",
              "    }\n",
              "\n",
              "    .dataframe tbody tr th {\n",
              "        vertical-align: top;\n",
              "    }\n",
              "\n",
              "    .dataframe thead th {\n",
              "        text-align: right;\n",
              "    }\n",
              "</style>\n",
              "<table border=\"1\" class=\"dataframe\">\n",
              "  <thead>\n",
              "    <tr style=\"text-align: right;\">\n",
              "      <th></th>\n",
              "      <th>제품1</th>\n",
              "      <th>제품2</th>\n",
              "      <th>제품3</th>\n",
              "      <th>제품4</th>\n",
              "    </tr>\n",
              "    <tr>\n",
              "      <th>연도</th>\n",
              "      <th></th>\n",
              "      <th></th>\n",
              "      <th></th>\n",
              "      <th></th>\n",
              "    </tr>\n",
              "  </thead>\n",
              "  <tbody>\n",
              "    <tr>\n",
              "      <th>2015</th>\n",
              "      <td>250.0</td>\n",
              "      <td>150</td>\n",
              "      <td>NaN</td>\n",
              "      <td>NaN</td>\n",
              "    </tr>\n",
              "    <tr>\n",
              "      <th>2016</th>\n",
              "      <td>200.0</td>\n",
              "      <td>160</td>\n",
              "      <td>170.0</td>\n",
              "      <td>NaN</td>\n",
              "    </tr>\n",
              "    <tr>\n",
              "      <th>2017</th>\n",
              "      <td>150.0</td>\n",
              "      <td>200</td>\n",
              "      <td>100.0</td>\n",
              "      <td>150.0</td>\n",
              "    </tr>\n",
              "    <tr>\n",
              "      <th>2018</th>\n",
              "      <td>120.0</td>\n",
              "      <td>230</td>\n",
              "      <td>130.0</td>\n",
              "      <td>170.0</td>\n",
              "    </tr>\n",
              "    <tr>\n",
              "      <th>2019</th>\n",
              "      <td>NaN</td>\n",
              "      <td>250</td>\n",
              "      <td>140.0</td>\n",
              "      <td>NaN</td>\n",
              "    </tr>\n",
              "  </tbody>\n",
              "</table>\n",
              "</div>"
            ],
            "text/plain": [
              "        제품1  제품2    제품3    제품4\n",
              "연도                            \n",
              "2015  250.0  150    NaN    NaN\n",
              "2016  200.0  160  170.0    NaN\n",
              "2017  150.0  200  100.0  150.0\n",
              "2018  120.0  230  130.0  170.0\n",
              "2019    NaN  250  140.0    NaN"
            ]
          },
          "execution_count": 111,
          "metadata": {},
          "output_type": "execute_result"
        }
      ],
      "source": [
        "df_copy2"
      ]
    },
    {
      "cell_type": "code",
      "execution_count": null,
      "id": "b5c52d54",
      "metadata": {
        "id": "b5c52d54"
      },
      "outputs": [],
      "source": [
        "# df_copy2.dropna(axis=1)"
      ]
    },
    {
      "cell_type": "code",
      "execution_count": null,
      "id": "aebd946d",
      "metadata": {
        "id": "aebd946d",
        "outputId": "64fbc698-b68f-4678-9620-eca56cbe171c"
      },
      "outputs": [
        {
          "data": {
            "text/html": [
              "<div>\n",
              "<style scoped>\n",
              "    .dataframe tbody tr th:only-of-type {\n",
              "        vertical-align: middle;\n",
              "    }\n",
              "\n",
              "    .dataframe tbody tr th {\n",
              "        vertical-align: top;\n",
              "    }\n",
              "\n",
              "    .dataframe thead th {\n",
              "        text-align: right;\n",
              "    }\n",
              "</style>\n",
              "<table border=\"1\" class=\"dataframe\">\n",
              "  <thead>\n",
              "    <tr style=\"text-align: right;\">\n",
              "      <th></th>\n",
              "      <th>제품1</th>\n",
              "      <th>제품2</th>\n",
              "    </tr>\n",
              "    <tr>\n",
              "      <th>연도</th>\n",
              "      <th></th>\n",
              "      <th></th>\n",
              "    </tr>\n",
              "  </thead>\n",
              "  <tbody>\n",
              "    <tr>\n",
              "      <th>2015</th>\n",
              "      <td>250.0</td>\n",
              "      <td>150</td>\n",
              "    </tr>\n",
              "    <tr>\n",
              "      <th>2016</th>\n",
              "      <td>200.0</td>\n",
              "      <td>160</td>\n",
              "    </tr>\n",
              "    <tr>\n",
              "      <th>2017</th>\n",
              "      <td>150.0</td>\n",
              "      <td>200</td>\n",
              "    </tr>\n",
              "    <tr>\n",
              "      <th>2018</th>\n",
              "      <td>120.0</td>\n",
              "      <td>230</td>\n",
              "    </tr>\n",
              "    <tr>\n",
              "      <th>2019</th>\n",
              "      <td>NaN</td>\n",
              "      <td>250</td>\n",
              "    </tr>\n",
              "  </tbody>\n",
              "</table>\n",
              "</div>"
            ],
            "text/plain": [
              "        제품1  제품2\n",
              "연도              \n",
              "2015  250.0  150\n",
              "2016  200.0  160\n",
              "2017  150.0  200\n",
              "2018  120.0  230\n",
              "2019    NaN  250"
            ]
          },
          "execution_count": 113,
          "metadata": {},
          "output_type": "execute_result"
        }
      ],
      "source": [
        "df_copy2.dropna(axis=1, subset=[2015])"
      ]
    },
    {
      "cell_type": "code",
      "execution_count": null,
      "id": "9f09a334",
      "metadata": {
        "id": "9f09a334",
        "outputId": "9a0826f2-49fb-4a6d-bcf8-38e835b4339c"
      },
      "outputs": [
        {
          "data": {
            "text/html": [
              "<div>\n",
              "<style scoped>\n",
              "    .dataframe tbody tr th:only-of-type {\n",
              "        vertical-align: middle;\n",
              "    }\n",
              "\n",
              "    .dataframe tbody tr th {\n",
              "        vertical-align: top;\n",
              "    }\n",
              "\n",
              "    .dataframe thead th {\n",
              "        text-align: right;\n",
              "    }\n",
              "</style>\n",
              "<table border=\"1\" class=\"dataframe\">\n",
              "  <thead>\n",
              "    <tr style=\"text-align: right;\">\n",
              "      <th></th>\n",
              "      <th>제품2</th>\n",
              "      <th>제품3</th>\n",
              "    </tr>\n",
              "    <tr>\n",
              "      <th>연도</th>\n",
              "      <th></th>\n",
              "      <th></th>\n",
              "    </tr>\n",
              "  </thead>\n",
              "  <tbody>\n",
              "    <tr>\n",
              "      <th>2015</th>\n",
              "      <td>150</td>\n",
              "      <td>NaN</td>\n",
              "    </tr>\n",
              "    <tr>\n",
              "      <th>2016</th>\n",
              "      <td>160</td>\n",
              "      <td>170.0</td>\n",
              "    </tr>\n",
              "    <tr>\n",
              "      <th>2017</th>\n",
              "      <td>200</td>\n",
              "      <td>100.0</td>\n",
              "    </tr>\n",
              "    <tr>\n",
              "      <th>2018</th>\n",
              "      <td>230</td>\n",
              "      <td>130.0</td>\n",
              "    </tr>\n",
              "    <tr>\n",
              "      <th>2019</th>\n",
              "      <td>250</td>\n",
              "      <td>140.0</td>\n",
              "    </tr>\n",
              "  </tbody>\n",
              "</table>\n",
              "</div>"
            ],
            "text/plain": [
              "      제품2    제품3\n",
              "연도              \n",
              "2015  150    NaN\n",
              "2016  160  170.0\n",
              "2017  200  100.0\n",
              "2018  230  130.0\n",
              "2019  250  140.0"
            ]
          },
          "execution_count": 109,
          "metadata": {},
          "output_type": "execute_result"
        }
      ],
      "source": [
        "df_copy2.dropna(axis=1, subset=[2016,2019])"
      ]
    },
    {
      "cell_type": "code",
      "execution_count": null,
      "id": "a349dcac",
      "metadata": {
        "id": "a349dcac",
        "outputId": "5a4e8634-3171-4c65-82ed-94f2de51b4f7"
      },
      "outputs": [
        {
          "data": {
            "text/html": [
              "<div>\n",
              "<style scoped>\n",
              "    .dataframe tbody tr th:only-of-type {\n",
              "        vertical-align: middle;\n",
              "    }\n",
              "\n",
              "    .dataframe tbody tr th {\n",
              "        vertical-align: top;\n",
              "    }\n",
              "\n",
              "    .dataframe thead th {\n",
              "        text-align: right;\n",
              "    }\n",
              "</style>\n",
              "<table border=\"1\" class=\"dataframe\">\n",
              "  <thead>\n",
              "    <tr style=\"text-align: right;\">\n",
              "      <th></th>\n",
              "      <th>제품1</th>\n",
              "      <th>제품2</th>\n",
              "      <th>제품3</th>\n",
              "      <th>제품4</th>\n",
              "    </tr>\n",
              "    <tr>\n",
              "      <th>연도</th>\n",
              "      <th></th>\n",
              "      <th></th>\n",
              "      <th></th>\n",
              "      <th></th>\n",
              "    </tr>\n",
              "  </thead>\n",
              "  <tbody>\n",
              "    <tr>\n",
              "      <th>2015</th>\n",
              "      <td>250.0</td>\n",
              "      <td>150</td>\n",
              "      <td>NaN</td>\n",
              "      <td>NaN</td>\n",
              "    </tr>\n",
              "    <tr>\n",
              "      <th>2016</th>\n",
              "      <td>200.0</td>\n",
              "      <td>160</td>\n",
              "      <td>170.0</td>\n",
              "      <td>NaN</td>\n",
              "    </tr>\n",
              "    <tr>\n",
              "      <th>2017</th>\n",
              "      <td>150.0</td>\n",
              "      <td>200</td>\n",
              "      <td>100.0</td>\n",
              "      <td>150.0</td>\n",
              "    </tr>\n",
              "    <tr>\n",
              "      <th>2018</th>\n",
              "      <td>120.0</td>\n",
              "      <td>230</td>\n",
              "      <td>130.0</td>\n",
              "      <td>170.0</td>\n",
              "    </tr>\n",
              "    <tr>\n",
              "      <th>2019</th>\n",
              "      <td>NaN</td>\n",
              "      <td>250</td>\n",
              "      <td>140.0</td>\n",
              "      <td>NaN</td>\n",
              "    </tr>\n",
              "  </tbody>\n",
              "</table>\n",
              "</div>"
            ],
            "text/plain": [
              "        제품1  제품2    제품3    제품4\n",
              "연도                            \n",
              "2015  250.0  150    NaN    NaN\n",
              "2016  200.0  160  170.0    NaN\n",
              "2017  150.0  200  100.0  150.0\n",
              "2018  120.0  230  130.0  170.0\n",
              "2019    NaN  250  140.0    NaN"
            ]
          },
          "execution_count": 114,
          "metadata": {},
          "output_type": "execute_result"
        }
      ],
      "source": [
        "df"
      ]
    },
    {
      "cell_type": "code",
      "execution_count": null,
      "id": "e533fbbe",
      "metadata": {
        "id": "e533fbbe",
        "outputId": "37fa0dcb-a8fa-4085-bf19-2fd636c2ea14"
      },
      "outputs": [
        {
          "data": {
            "text/html": [
              "<div>\n",
              "<style scoped>\n",
              "    .dataframe tbody tr th:only-of-type {\n",
              "        vertical-align: middle;\n",
              "    }\n",
              "\n",
              "    .dataframe tbody tr th {\n",
              "        vertical-align: top;\n",
              "    }\n",
              "\n",
              "    .dataframe thead th {\n",
              "        text-align: right;\n",
              "    }\n",
              "</style>\n",
              "<table border=\"1\" class=\"dataframe\">\n",
              "  <thead>\n",
              "    <tr style=\"text-align: right;\">\n",
              "      <th></th>\n",
              "      <th>제품1</th>\n",
              "      <th>제품2</th>\n",
              "      <th>제품3</th>\n",
              "      <th>제품4</th>\n",
              "    </tr>\n",
              "    <tr>\n",
              "      <th>연도</th>\n",
              "      <th></th>\n",
              "      <th></th>\n",
              "      <th></th>\n",
              "      <th></th>\n",
              "    </tr>\n",
              "  </thead>\n",
              "  <tbody>\n",
              "    <tr>\n",
              "      <th>2015</th>\n",
              "      <td>250.0</td>\n",
              "      <td>150</td>\n",
              "      <td>0.0</td>\n",
              "      <td>0.0</td>\n",
              "    </tr>\n",
              "    <tr>\n",
              "      <th>2016</th>\n",
              "      <td>200.0</td>\n",
              "      <td>160</td>\n",
              "      <td>170.0</td>\n",
              "      <td>0.0</td>\n",
              "    </tr>\n",
              "    <tr>\n",
              "      <th>2017</th>\n",
              "      <td>150.0</td>\n",
              "      <td>200</td>\n",
              "      <td>100.0</td>\n",
              "      <td>150.0</td>\n",
              "    </tr>\n",
              "    <tr>\n",
              "      <th>2018</th>\n",
              "      <td>120.0</td>\n",
              "      <td>230</td>\n",
              "      <td>130.0</td>\n",
              "      <td>170.0</td>\n",
              "    </tr>\n",
              "    <tr>\n",
              "      <th>2019</th>\n",
              "      <td>0.0</td>\n",
              "      <td>250</td>\n",
              "      <td>140.0</td>\n",
              "      <td>0.0</td>\n",
              "    </tr>\n",
              "  </tbody>\n",
              "</table>\n",
              "</div>"
            ],
            "text/plain": [
              "        제품1  제품2    제품3    제품4\n",
              "연도                            \n",
              "2015  250.0  150    0.0    0.0\n",
              "2016  200.0  160  170.0    0.0\n",
              "2017  150.0  200  100.0  150.0\n",
              "2018  120.0  230  130.0  170.0\n",
              "2019    0.0  250  140.0    0.0"
            ]
          },
          "execution_count": 115,
          "metadata": {},
          "output_type": "execute_result"
        }
      ],
      "source": [
        "df.fillna(0)"
      ]
    },
    {
      "cell_type": "code",
      "execution_count": null,
      "id": "c8b76f5c",
      "metadata": {
        "id": "c8b76f5c",
        "outputId": "c0dec97b-d267-447e-84d3-259f0a91a21b"
      },
      "outputs": [
        {
          "data": {
            "text/html": [
              "<div>\n",
              "<style scoped>\n",
              "    .dataframe tbody tr th:only-of-type {\n",
              "        vertical-align: middle;\n",
              "    }\n",
              "\n",
              "    .dataframe tbody tr th {\n",
              "        vertical-align: top;\n",
              "    }\n",
              "\n",
              "    .dataframe thead th {\n",
              "        text-align: right;\n",
              "    }\n",
              "</style>\n",
              "<table border=\"1\" class=\"dataframe\">\n",
              "  <thead>\n",
              "    <tr style=\"text-align: right;\">\n",
              "      <th></th>\n",
              "      <th>제품1</th>\n",
              "      <th>제품2</th>\n",
              "      <th>제품3</th>\n",
              "      <th>제품4</th>\n",
              "    </tr>\n",
              "    <tr>\n",
              "      <th>연도</th>\n",
              "      <th></th>\n",
              "      <th></th>\n",
              "      <th></th>\n",
              "      <th></th>\n",
              "    </tr>\n",
              "  </thead>\n",
              "  <tbody>\n",
              "    <tr>\n",
              "      <th>2015</th>\n",
              "      <td>250.0</td>\n",
              "      <td>150</td>\n",
              "      <td>170.0</td>\n",
              "      <td>150.0</td>\n",
              "    </tr>\n",
              "    <tr>\n",
              "      <th>2016</th>\n",
              "      <td>200.0</td>\n",
              "      <td>160</td>\n",
              "      <td>170.0</td>\n",
              "      <td>150.0</td>\n",
              "    </tr>\n",
              "    <tr>\n",
              "      <th>2017</th>\n",
              "      <td>150.0</td>\n",
              "      <td>200</td>\n",
              "      <td>100.0</td>\n",
              "      <td>150.0</td>\n",
              "    </tr>\n",
              "    <tr>\n",
              "      <th>2018</th>\n",
              "      <td>120.0</td>\n",
              "      <td>230</td>\n",
              "      <td>130.0</td>\n",
              "      <td>170.0</td>\n",
              "    </tr>\n",
              "    <tr>\n",
              "      <th>2019</th>\n",
              "      <td>NaN</td>\n",
              "      <td>250</td>\n",
              "      <td>140.0</td>\n",
              "      <td>NaN</td>\n",
              "    </tr>\n",
              "  </tbody>\n",
              "</table>\n",
              "</div>"
            ],
            "text/plain": [
              "        제품1  제품2    제품3    제품4\n",
              "연도                            \n",
              "2015  250.0  150  170.0  150.0\n",
              "2016  200.0  160  170.0  150.0\n",
              "2017  150.0  200  100.0  150.0\n",
              "2018  120.0  230  130.0  170.0\n",
              "2019    NaN  250  140.0    NaN"
            ]
          },
          "execution_count": 116,
          "metadata": {},
          "output_type": "execute_result"
        }
      ],
      "source": [
        "# b는 backward? 열 기준으로 뒤에 값으로부터 채운다.\n",
        "df.fillna(method='bfill')"
      ]
    },
    {
      "cell_type": "code",
      "execution_count": null,
      "id": "a59bc8b2",
      "metadata": {
        "id": "a59bc8b2",
        "outputId": "26f6850c-b4d8-4c18-a13f-12394a674e24"
      },
      "outputs": [
        {
          "data": {
            "text/html": [
              "<div>\n",
              "<style scoped>\n",
              "    .dataframe tbody tr th:only-of-type {\n",
              "        vertical-align: middle;\n",
              "    }\n",
              "\n",
              "    .dataframe tbody tr th {\n",
              "        vertical-align: top;\n",
              "    }\n",
              "\n",
              "    .dataframe thead th {\n",
              "        text-align: right;\n",
              "    }\n",
              "</style>\n",
              "<table border=\"1\" class=\"dataframe\">\n",
              "  <thead>\n",
              "    <tr style=\"text-align: right;\">\n",
              "      <th></th>\n",
              "      <th>제품1</th>\n",
              "      <th>제품2</th>\n",
              "      <th>제품3</th>\n",
              "      <th>제품4</th>\n",
              "    </tr>\n",
              "    <tr>\n",
              "      <th>연도</th>\n",
              "      <th></th>\n",
              "      <th></th>\n",
              "      <th></th>\n",
              "      <th></th>\n",
              "    </tr>\n",
              "  </thead>\n",
              "  <tbody>\n",
              "    <tr>\n",
              "      <th>2015</th>\n",
              "      <td>250.0</td>\n",
              "      <td>150</td>\n",
              "      <td>NaN</td>\n",
              "      <td>NaN</td>\n",
              "    </tr>\n",
              "    <tr>\n",
              "      <th>2016</th>\n",
              "      <td>200.0</td>\n",
              "      <td>160</td>\n",
              "      <td>170.0</td>\n",
              "      <td>NaN</td>\n",
              "    </tr>\n",
              "    <tr>\n",
              "      <th>2017</th>\n",
              "      <td>150.0</td>\n",
              "      <td>200</td>\n",
              "      <td>100.0</td>\n",
              "      <td>150.0</td>\n",
              "    </tr>\n",
              "    <tr>\n",
              "      <th>2018</th>\n",
              "      <td>120.0</td>\n",
              "      <td>230</td>\n",
              "      <td>130.0</td>\n",
              "      <td>170.0</td>\n",
              "    </tr>\n",
              "    <tr>\n",
              "      <th>2019</th>\n",
              "      <td>120.0</td>\n",
              "      <td>250</td>\n",
              "      <td>140.0</td>\n",
              "      <td>170.0</td>\n",
              "    </tr>\n",
              "  </tbody>\n",
              "</table>\n",
              "</div>"
            ],
            "text/plain": [
              "        제품1  제품2    제품3    제품4\n",
              "연도                            \n",
              "2015  250.0  150    NaN    NaN\n",
              "2016  200.0  160  170.0    NaN\n",
              "2017  150.0  200  100.0  150.0\n",
              "2018  120.0  230  130.0  170.0\n",
              "2019  120.0  250  140.0  170.0"
            ]
          },
          "execution_count": 117,
          "metadata": {},
          "output_type": "execute_result"
        }
      ],
      "source": [
        "df.fillna(method='ffill')"
      ]
    },
    {
      "cell_type": "code",
      "execution_count": null,
      "id": "960446e4",
      "metadata": {
        "id": "960446e4",
        "outputId": "7b21dde3-8f0d-4fd5-cf77-0917faabccea"
      },
      "outputs": [
        {
          "data": {
            "text/html": [
              "<div>\n",
              "<style scoped>\n",
              "    .dataframe tbody tr th:only-of-type {\n",
              "        vertical-align: middle;\n",
              "    }\n",
              "\n",
              "    .dataframe tbody tr th {\n",
              "        vertical-align: top;\n",
              "    }\n",
              "\n",
              "    .dataframe thead th {\n",
              "        text-align: right;\n",
              "    }\n",
              "</style>\n",
              "<table border=\"1\" class=\"dataframe\">\n",
              "  <thead>\n",
              "    <tr style=\"text-align: right;\">\n",
              "      <th></th>\n",
              "      <th>제품1</th>\n",
              "      <th>제품2</th>\n",
              "      <th>제품3</th>\n",
              "      <th>제품4</th>\n",
              "    </tr>\n",
              "    <tr>\n",
              "      <th>연도</th>\n",
              "      <th></th>\n",
              "      <th></th>\n",
              "      <th></th>\n",
              "      <th></th>\n",
              "    </tr>\n",
              "  </thead>\n",
              "  <tbody>\n",
              "    <tr>\n",
              "      <th>2015</th>\n",
              "      <td>250.0</td>\n",
              "      <td>150</td>\n",
              "      <td>NaN</td>\n",
              "      <td>400.0</td>\n",
              "    </tr>\n",
              "    <tr>\n",
              "      <th>2016</th>\n",
              "      <td>200.0</td>\n",
              "      <td>160</td>\n",
              "      <td>170.0</td>\n",
              "      <td>400.0</td>\n",
              "    </tr>\n",
              "    <tr>\n",
              "      <th>2017</th>\n",
              "      <td>150.0</td>\n",
              "      <td>200</td>\n",
              "      <td>100.0</td>\n",
              "      <td>150.0</td>\n",
              "    </tr>\n",
              "    <tr>\n",
              "      <th>2018</th>\n",
              "      <td>120.0</td>\n",
              "      <td>230</td>\n",
              "      <td>130.0</td>\n",
              "      <td>170.0</td>\n",
              "    </tr>\n",
              "    <tr>\n",
              "      <th>2019</th>\n",
              "      <td>100.0</td>\n",
              "      <td>250</td>\n",
              "      <td>140.0</td>\n",
              "      <td>400.0</td>\n",
              "    </tr>\n",
              "  </tbody>\n",
              "</table>\n",
              "</div>"
            ],
            "text/plain": [
              "        제품1  제품2    제품3    제품4\n",
              "연도                            \n",
              "2015  250.0  150    NaN  400.0\n",
              "2016  200.0  160  170.0  400.0\n",
              "2017  150.0  200  100.0  150.0\n",
              "2018  120.0  230  130.0  170.0\n",
              "2019  100.0  250  140.0  400.0"
            ]
          },
          "execution_count": 118,
          "metadata": {},
          "output_type": "execute_result"
        }
      ],
      "source": [
        "values = {'제품1': 100,  '제품4': 400}\n",
        "df.fillna(value=values)"
      ]
    },
    {
      "cell_type": "code",
      "execution_count": null,
      "id": "7a2153c3",
      "metadata": {
        "id": "7a2153c3",
        "outputId": "219d20d6-2c99-46c5-9b8f-1e040bc7d611"
      },
      "outputs": [
        {
          "data": {
            "text/html": [
              "<div>\n",
              "<style scoped>\n",
              "    .dataframe tbody tr th:only-of-type {\n",
              "        vertical-align: middle;\n",
              "    }\n",
              "\n",
              "    .dataframe tbody tr th {\n",
              "        vertical-align: top;\n",
              "    }\n",
              "\n",
              "    .dataframe thead th {\n",
              "        text-align: right;\n",
              "    }\n",
              "</style>\n",
              "<table border=\"1\" class=\"dataframe\">\n",
              "  <thead>\n",
              "    <tr style=\"text-align: right;\">\n",
              "      <th></th>\n",
              "      <th>연도</th>\n",
              "      <th>제품1</th>\n",
              "      <th>제품2</th>\n",
              "      <th>제품3</th>\n",
              "      <th>제품4</th>\n",
              "    </tr>\n",
              "  </thead>\n",
              "  <tbody>\n",
              "    <tr>\n",
              "      <th>0</th>\n",
              "      <td>2015</td>\n",
              "      <td>250.0</td>\n",
              "      <td>150</td>\n",
              "      <td>NaN</td>\n",
              "      <td>NaN</td>\n",
              "    </tr>\n",
              "    <tr>\n",
              "      <th>1</th>\n",
              "      <td>2016</td>\n",
              "      <td>200.0</td>\n",
              "      <td>160</td>\n",
              "      <td>170.0</td>\n",
              "      <td>NaN</td>\n",
              "    </tr>\n",
              "    <tr>\n",
              "      <th>2</th>\n",
              "      <td>2017</td>\n",
              "      <td>150.0</td>\n",
              "      <td>200</td>\n",
              "      <td>100.0</td>\n",
              "      <td>150.0</td>\n",
              "    </tr>\n",
              "    <tr>\n",
              "      <th>3</th>\n",
              "      <td>2018</td>\n",
              "      <td>120.0</td>\n",
              "      <td>230</td>\n",
              "      <td>130.0</td>\n",
              "      <td>170.0</td>\n",
              "    </tr>\n",
              "    <tr>\n",
              "      <th>4</th>\n",
              "      <td>2019</td>\n",
              "      <td>NaN</td>\n",
              "      <td>250</td>\n",
              "      <td>140.0</td>\n",
              "      <td>NaN</td>\n",
              "    </tr>\n",
              "  </tbody>\n",
              "</table>\n",
              "</div>"
            ],
            "text/plain": [
              "     연도    제품1  제품2    제품3    제품4\n",
              "0  2015  250.0  150    NaN    NaN\n",
              "1  2016  200.0  160  170.0    NaN\n",
              "2  2017  150.0  200  100.0  150.0\n",
              "3  2018  120.0  230  130.0  170.0\n",
              "4  2019    NaN  250  140.0    NaN"
            ]
          },
          "execution_count": 123,
          "metadata": {},
          "output_type": "execute_result"
        }
      ],
      "source": [
        "df.reset_index()"
      ]
    },
    {
      "cell_type": "code",
      "execution_count": null,
      "id": "eb4fbf73",
      "metadata": {
        "id": "eb4fbf73"
      },
      "outputs": [],
      "source": [
        "df=df.reset_index()"
      ]
    },
    {
      "cell_type": "code",
      "execution_count": null,
      "id": "571b5a40",
      "metadata": {
        "id": "571b5a40",
        "outputId": "3f4902d4-806c-44dc-909b-e98a9897e9dd"
      },
      "outputs": [
        {
          "data": {
            "text/html": [
              "<div>\n",
              "<style scoped>\n",
              "    .dataframe tbody tr th:only-of-type {\n",
              "        vertical-align: middle;\n",
              "    }\n",
              "\n",
              "    .dataframe tbody tr th {\n",
              "        vertical-align: top;\n",
              "    }\n",
              "\n",
              "    .dataframe thead th {\n",
              "        text-align: right;\n",
              "    }\n",
              "</style>\n",
              "<table border=\"1\" class=\"dataframe\">\n",
              "  <thead>\n",
              "    <tr style=\"text-align: right;\">\n",
              "      <th></th>\n",
              "      <th>연도</th>\n",
              "      <th>제품1</th>\n",
              "      <th>제품2</th>\n",
              "      <th>제품3</th>\n",
              "      <th>제품4</th>\n",
              "    </tr>\n",
              "  </thead>\n",
              "  <tbody>\n",
              "    <tr>\n",
              "      <th>0</th>\n",
              "      <td>2015</td>\n",
              "      <td>250.0</td>\n",
              "      <td>150</td>\n",
              "      <td>NaN</td>\n",
              "      <td>NaN</td>\n",
              "    </tr>\n",
              "    <tr>\n",
              "      <th>1</th>\n",
              "      <td>2016</td>\n",
              "      <td>200.0</td>\n",
              "      <td>160</td>\n",
              "      <td>170.0</td>\n",
              "      <td>NaN</td>\n",
              "    </tr>\n",
              "    <tr>\n",
              "      <th>2</th>\n",
              "      <td>2017</td>\n",
              "      <td>150.0</td>\n",
              "      <td>200</td>\n",
              "      <td>100.0</td>\n",
              "      <td>150.0</td>\n",
              "    </tr>\n",
              "    <tr>\n",
              "      <th>3</th>\n",
              "      <td>2018</td>\n",
              "      <td>120.0</td>\n",
              "      <td>230</td>\n",
              "      <td>130.0</td>\n",
              "      <td>170.0</td>\n",
              "    </tr>\n",
              "    <tr>\n",
              "      <th>4</th>\n",
              "      <td>2019</td>\n",
              "      <td>NaN</td>\n",
              "      <td>250</td>\n",
              "      <td>140.0</td>\n",
              "      <td>NaN</td>\n",
              "    </tr>\n",
              "  </tbody>\n",
              "</table>\n",
              "</div>"
            ],
            "text/plain": [
              "     연도    제품1  제품2    제품3    제품4\n",
              "0  2015  250.0  150    NaN    NaN\n",
              "1  2016  200.0  160  170.0    NaN\n",
              "2  2017  150.0  200  100.0  150.0\n",
              "3  2018  120.0  230  130.0  170.0\n",
              "4  2019    NaN  250  140.0    NaN"
            ]
          },
          "execution_count": 126,
          "metadata": {},
          "output_type": "execute_result"
        }
      ],
      "source": [
        "df"
      ]
    },
    {
      "cell_type": "markdown",
      "id": "eb6f5d57",
      "metadata": {
        "id": "eb6f5d57"
      },
      "source": [
        "### 데이터의 요약 및 재구성\n",
        "## 데이터의 구조 살펴보기"
      ]
    },
    {
      "cell_type": "code",
      "execution_count": null,
      "id": "7e1810ce",
      "metadata": {
        "id": "7e1810ce",
        "outputId": "0e810352-638c-4c1a-d079-05a353426043"
      },
      "outputs": [
        {
          "data": {
            "text/html": [
              "<div>\n",
              "<style scoped>\n",
              "    .dataframe tbody tr th:only-of-type {\n",
              "        vertical-align: middle;\n",
              "    }\n",
              "\n",
              "    .dataframe tbody tr th {\n",
              "        vertical-align: top;\n",
              "    }\n",
              "\n",
              "    .dataframe thead th {\n",
              "        text-align: right;\n",
              "    }\n",
              "</style>\n",
              "<table border=\"1\" class=\"dataframe\">\n",
              "  <thead>\n",
              "    <tr style=\"text-align: right;\">\n",
              "      <th></th>\n",
              "      <th>매장명</th>\n",
              "      <th>제품종류</th>\n",
              "      <th>모델명</th>\n",
              "      <th>판매</th>\n",
              "      <th>재고</th>\n",
              "    </tr>\n",
              "  </thead>\n",
              "  <tbody>\n",
              "    <tr>\n",
              "      <th>0</th>\n",
              "      <td>A</td>\n",
              "      <td>스마트폰</td>\n",
              "      <td>S1</td>\n",
              "      <td>1</td>\n",
              "      <td>2</td>\n",
              "    </tr>\n",
              "    <tr>\n",
              "      <th>1</th>\n",
              "      <td>A</td>\n",
              "      <td>스마트폰</td>\n",
              "      <td>S2</td>\n",
              "      <td>2</td>\n",
              "      <td>5</td>\n",
              "    </tr>\n",
              "    <tr>\n",
              "      <th>2</th>\n",
              "      <td>A</td>\n",
              "      <td>TV</td>\n",
              "      <td>V1</td>\n",
              "      <td>3</td>\n",
              "      <td>5</td>\n",
              "    </tr>\n",
              "    <tr>\n",
              "      <th>3</th>\n",
              "      <td>B</td>\n",
              "      <td>스마트폰</td>\n",
              "      <td>S2</td>\n",
              "      <td>4</td>\n",
              "      <td>6</td>\n",
              "    </tr>\n",
              "    <tr>\n",
              "      <th>4</th>\n",
              "      <td>B</td>\n",
              "      <td>스마트폰</td>\n",
              "      <td>S1</td>\n",
              "      <td>5</td>\n",
              "      <td>8</td>\n",
              "    </tr>\n",
              "    <tr>\n",
              "      <th>5</th>\n",
              "      <td>B</td>\n",
              "      <td>TV</td>\n",
              "      <td>V1</td>\n",
              "      <td>6</td>\n",
              "      <td>9</td>\n",
              "    </tr>\n",
              "    <tr>\n",
              "      <th>6</th>\n",
              "      <td>C</td>\n",
              "      <td>스마트폰</td>\n",
              "      <td>S2</td>\n",
              "      <td>2</td>\n",
              "      <td>4</td>\n",
              "    </tr>\n",
              "    <tr>\n",
              "      <th>7</th>\n",
              "      <td>C</td>\n",
              "      <td>TV</td>\n",
              "      <td>V1</td>\n",
              "      <td>3</td>\n",
              "      <td>6</td>\n",
              "    </tr>\n",
              "    <tr>\n",
              "      <th>8</th>\n",
              "      <td>C</td>\n",
              "      <td>TV</td>\n",
              "      <td>V2</td>\n",
              "      <td>7</td>\n",
              "      <td>9</td>\n",
              "    </tr>\n",
              "  </tbody>\n",
              "</table>\n",
              "</div>"
            ],
            "text/plain": [
              "  매장명  제품종류 모델명  판매  재고\n",
              "0   A  스마트폰  S1   1   2\n",
              "1   A  스마트폰  S2   2   5\n",
              "2   A    TV  V1   3   5\n",
              "3   B  스마트폰  S2   4   6\n",
              "4   B  스마트폰  S1   5   8\n",
              "5   B    TV  V1   6   9\n",
              "6   C  스마트폰  S2   2   4\n",
              "7   C    TV  V1   3   6\n",
              "8   C    TV  V2   7   9"
            ]
          },
          "execution_count": 127,
          "metadata": {},
          "output_type": "execute_result"
        }
      ],
      "source": [
        "data_file = \"C:/myPyCode/data/total_sales_data.csv\"\n",
        "\n",
        "df_sales = pd.read_csv(data_file)\n",
        "df_sales"
      ]
    },
    {
      "cell_type": "code",
      "execution_count": null,
      "id": "9d7b1e10",
      "metadata": {
        "id": "9d7b1e10",
        "outputId": "1c4de583-4dd4-41c4-b0ec-270399340972"
      },
      "outputs": [
        {
          "data": {
            "text/plain": [
              "Index(['매장명', '제품종류', '모델명', '판매', '재고'], dtype='object')"
            ]
          },
          "execution_count": 128,
          "metadata": {},
          "output_type": "execute_result"
        }
      ],
      "source": [
        "df_sales.columns"
      ]
    },
    {
      "cell_type": "code",
      "execution_count": null,
      "id": "090ce1d2",
      "metadata": {
        "id": "090ce1d2",
        "outputId": "bbeaf48f-44b7-4ccf-d026-0fe22505ab97"
      },
      "outputs": [
        {
          "data": {
            "text/plain": [
              "0    S1\n",
              "1    S2\n",
              "2    V1\n",
              "3    S2\n",
              "4    S1\n",
              "5    V1\n",
              "6    S2\n",
              "7    V1\n",
              "8    V2\n",
              "Name: 모델명, dtype: object"
            ]
          },
          "execution_count": 129,
          "metadata": {},
          "output_type": "execute_result"
        }
      ],
      "source": [
        "df_sales.모델명"
      ]
    },
    {
      "cell_type": "code",
      "execution_count": null,
      "id": "c4bcffb4",
      "metadata": {
        "id": "c4bcffb4",
        "outputId": "9c4428b4-df24-4cec-90a4-e89d02a7deae"
      },
      "outputs": [
        {
          "data": {
            "text/html": [
              "<div>\n",
              "<style scoped>\n",
              "    .dataframe tbody tr th:only-of-type {\n",
              "        vertical-align: middle;\n",
              "    }\n",
              "\n",
              "    .dataframe tbody tr th {\n",
              "        vertical-align: top;\n",
              "    }\n",
              "\n",
              "    .dataframe thead th {\n",
              "        text-align: right;\n",
              "    }\n",
              "</style>\n",
              "<table border=\"1\" class=\"dataframe\">\n",
              "  <thead>\n",
              "    <tr style=\"text-align: right;\">\n",
              "      <th></th>\n",
              "      <th>판매</th>\n",
              "      <th>재고</th>\n",
              "    </tr>\n",
              "  </thead>\n",
              "  <tbody>\n",
              "    <tr>\n",
              "      <th>count</th>\n",
              "      <td>9.000000</td>\n",
              "      <td>9.000000</td>\n",
              "    </tr>\n",
              "    <tr>\n",
              "      <th>mean</th>\n",
              "      <td>3.666667</td>\n",
              "      <td>6.000000</td>\n",
              "    </tr>\n",
              "    <tr>\n",
              "      <th>std</th>\n",
              "      <td>2.000000</td>\n",
              "      <td>2.345208</td>\n",
              "    </tr>\n",
              "    <tr>\n",
              "      <th>min</th>\n",
              "      <td>1.000000</td>\n",
              "      <td>2.000000</td>\n",
              "    </tr>\n",
              "    <tr>\n",
              "      <th>25%</th>\n",
              "      <td>2.000000</td>\n",
              "      <td>5.000000</td>\n",
              "    </tr>\n",
              "    <tr>\n",
              "      <th>50%</th>\n",
              "      <td>3.000000</td>\n",
              "      <td>6.000000</td>\n",
              "    </tr>\n",
              "    <tr>\n",
              "      <th>75%</th>\n",
              "      <td>5.000000</td>\n",
              "      <td>8.000000</td>\n",
              "    </tr>\n",
              "    <tr>\n",
              "      <th>max</th>\n",
              "      <td>7.000000</td>\n",
              "      <td>9.000000</td>\n",
              "    </tr>\n",
              "  </tbody>\n",
              "</table>\n",
              "</div>"
            ],
            "text/plain": [
              "             판매        재고\n",
              "count  9.000000  9.000000\n",
              "mean   3.666667  6.000000\n",
              "std    2.000000  2.345208\n",
              "min    1.000000  2.000000\n",
              "25%    2.000000  5.000000\n",
              "50%    3.000000  6.000000\n",
              "75%    5.000000  8.000000\n",
              "max    7.000000  9.000000"
            ]
          },
          "execution_count": 131,
          "metadata": {},
          "output_type": "execute_result"
        }
      ],
      "source": [
        "# 명목형 데이터들은 기술통계 불가. 숫자만 가능\n",
        "df_sales.describe()"
      ]
    },
    {
      "cell_type": "code",
      "execution_count": null,
      "id": "bc6969d7",
      "metadata": {
        "id": "bc6969d7",
        "outputId": "55c6150b-01c3-41be-c762-7b065958d156"
      },
      "outputs": [
        {
          "name": "stdout",
          "output_type": "stream",
          "text": [
            "<class 'pandas.core.frame.DataFrame'>\n",
            "RangeIndex: 9 entries, 0 to 8\n",
            "Data columns (total 5 columns):\n",
            " #   Column  Non-Null Count  Dtype \n",
            "---  ------  --------------  ----- \n",
            " 0   매장명     9 non-null      object\n",
            " 1   제품종류    9 non-null      object\n",
            " 2   모델명     9 non-null      object\n",
            " 3   판매      9 non-null      int64 \n",
            " 4   재고      9 non-null      int64 \n",
            "dtypes: int64(2), object(3)\n",
            "memory usage: 492.0+ bytes\n"
          ]
        }
      ],
      "source": [
        "df_sales.info()"
      ]
    },
    {
      "cell_type": "code",
      "execution_count": null,
      "id": "d7501816",
      "metadata": {
        "id": "d7501816",
        "outputId": "7f19963c-5e58-422e-d6d2-da67d4115fe5"
      },
      "outputs": [
        {
          "data": {
            "text/plain": [
              "매장명\n",
              "A    3\n",
              "B    3\n",
              "C    3\n",
              "Name: count, dtype: int64"
            ]
          },
          "execution_count": 133,
          "metadata": {},
          "output_type": "execute_result"
        }
      ],
      "source": [
        "df_sales.매장명.value_counts()"
      ]
    },
    {
      "cell_type": "code",
      "execution_count": null,
      "id": "5df9f960",
      "metadata": {
        "id": "5df9f960",
        "outputId": "ac444a90-1a8b-40ba-f52d-2ef0a51d8a2d"
      },
      "outputs": [
        {
          "data": {
            "text/html": [
              "<div>\n",
              "<style scoped>\n",
              "    .dataframe tbody tr th:only-of-type {\n",
              "        vertical-align: middle;\n",
              "    }\n",
              "\n",
              "    .dataframe tbody tr th {\n",
              "        vertical-align: top;\n",
              "    }\n",
              "\n",
              "    .dataframe thead th {\n",
              "        text-align: right;\n",
              "    }\n",
              "</style>\n",
              "<table border=\"1\" class=\"dataframe\">\n",
              "  <thead>\n",
              "    <tr style=\"text-align: right;\">\n",
              "      <th></th>\n",
              "      <th></th>\n",
              "      <th></th>\n",
              "      <th>재고</th>\n",
              "      <th>판매</th>\n",
              "    </tr>\n",
              "    <tr>\n",
              "      <th>매장명</th>\n",
              "      <th>제품종류</th>\n",
              "      <th>모델명</th>\n",
              "      <th></th>\n",
              "      <th></th>\n",
              "    </tr>\n",
              "  </thead>\n",
              "  <tbody>\n",
              "    <tr>\n",
              "      <th rowspan=\"3\" valign=\"top\">A</th>\n",
              "      <th>TV</th>\n",
              "      <th>V1</th>\n",
              "      <td>5</td>\n",
              "      <td>3</td>\n",
              "    </tr>\n",
              "    <tr>\n",
              "      <th rowspan=\"2\" valign=\"top\">스마트폰</th>\n",
              "      <th>S1</th>\n",
              "      <td>2</td>\n",
              "      <td>1</td>\n",
              "    </tr>\n",
              "    <tr>\n",
              "      <th>S2</th>\n",
              "      <td>5</td>\n",
              "      <td>2</td>\n",
              "    </tr>\n",
              "    <tr>\n",
              "      <th rowspan=\"3\" valign=\"top\">B</th>\n",
              "      <th>TV</th>\n",
              "      <th>V1</th>\n",
              "      <td>9</td>\n",
              "      <td>6</td>\n",
              "    </tr>\n",
              "    <tr>\n",
              "      <th rowspan=\"2\" valign=\"top\">스마트폰</th>\n",
              "      <th>S1</th>\n",
              "      <td>8</td>\n",
              "      <td>5</td>\n",
              "    </tr>\n",
              "    <tr>\n",
              "      <th>S2</th>\n",
              "      <td>6</td>\n",
              "      <td>4</td>\n",
              "    </tr>\n",
              "    <tr>\n",
              "      <th rowspan=\"3\" valign=\"top\">C</th>\n",
              "      <th rowspan=\"2\" valign=\"top\">TV</th>\n",
              "      <th>V1</th>\n",
              "      <td>6</td>\n",
              "      <td>3</td>\n",
              "    </tr>\n",
              "    <tr>\n",
              "      <th>V2</th>\n",
              "      <td>9</td>\n",
              "      <td>7</td>\n",
              "    </tr>\n",
              "    <tr>\n",
              "      <th>스마트폰</th>\n",
              "      <th>S2</th>\n",
              "      <td>4</td>\n",
              "      <td>2</td>\n",
              "    </tr>\n",
              "  </tbody>\n",
              "</table>\n",
              "</div>"
            ],
            "text/plain": [
              "              재고  판매\n",
              "매장명 제품종류 모델명        \n",
              "A   TV   V1    5   3\n",
              "    스마트폰 S1    2   1\n",
              "         S2    5   2\n",
              "B   TV   V1    9   6\n",
              "    스마트폰 S1    8   5\n",
              "         S2    6   4\n",
              "C   TV   V1    6   3\n",
              "         V2    9   7\n",
              "    스마트폰 S2    4   2"
            ]
          },
          "execution_count": 134,
          "metadata": {},
          "output_type": "execute_result"
        }
      ],
      "source": [
        "df_sales.pivot_table(index=[\"매장명\", \"제품종류\", \"모델명\"],\n",
        "                     values =[\"판매\",\"재고\"], aggfunc='sum')"
      ]
    },
    {
      "cell_type": "code",
      "execution_count": null,
      "id": "3d9cb8eb",
      "metadata": {
        "id": "3d9cb8eb"
      },
      "outputs": [],
      "source": []
    }
  ],
  "metadata": {
    "kernelspec": {
      "display_name": "Python 3 (ipykernel)",
      "language": "python",
      "name": "python3"
    },
    "language_info": {
      "codemirror_mode": {
        "name": "ipython",
        "version": 3
      },
      "file_extension": ".py",
      "mimetype": "text/x-python",
      "name": "python",
      "nbconvert_exporter": "python",
      "pygments_lexer": "ipython3",
      "version": "3.11.5"
    },
    "colab": {
      "provenance": [],
      "include_colab_link": true
    }
  },
  "nbformat": 4,
  "nbformat_minor": 5
}