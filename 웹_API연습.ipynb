{
  "cells": [
    {
      "cell_type": "markdown",
      "metadata": {
        "id": "view-in-github",
        "colab_type": "text"
      },
      "source": [
        "<a href=\"https://colab.research.google.com/github/korCarrot/ADP_Practical_Exam/blob/main/%EC%9B%B9_API%EC%97%B0%EC%8A%B5.ipynb\" target=\"_parent\"><img src=\"https://colab.research.google.com/assets/colab-badge.svg\" alt=\"Open In Colab\"/></a>"
      ]
    },
    {
      "cell_type": "code",
      "execution_count": null,
      "id": "3431caad",
      "metadata": {
        "id": "3431caad"
      },
      "outputs": [],
      "source": [
        "# API키를 사용하지 않고 데이터 가져오기"
      ]
    },
    {
      "cell_type": "code",
      "execution_count": null,
      "id": "8054f613",
      "metadata": {
        "id": "8054f613"
      },
      "outputs": [],
      "source": [
        "# International Space Station 위도, 경도 제공 open-notify.org"
      ]
    },
    {
      "cell_type": "code",
      "execution_count": null,
      "id": "4b9c8bae",
      "metadata": {
        "id": "4b9c8bae"
      },
      "outputs": [],
      "source": [
        "import requests"
      ]
    },
    {
      "cell_type": "code",
      "execution_count": null,
      "id": "2d000f0a",
      "metadata": {
        "id": "2d000f0a"
      },
      "outputs": [],
      "source": [
        "url='http://api.open-notify.org/iss-now.json'"
      ]
    },
    {
      "cell_type": "code",
      "execution_count": null,
      "id": "268b64e5",
      "metadata": {
        "id": "268b64e5",
        "outputId": "ef0911f1-0739-4e10-b09f-ad8121ee88dc"
      },
      "outputs": [
        {
          "data": {
            "text/plain": [
              "<Response [200]>"
            ]
          },
          "execution_count": 4,
          "metadata": {},
          "output_type": "execute_result"
        }
      ],
      "source": [
        "requests.get(url)"
      ]
    },
    {
      "cell_type": "code",
      "execution_count": null,
      "id": "aaf56018",
      "metadata": {
        "id": "aaf56018",
        "outputId": "a6d6183d-c10f-4204-ae4a-59c8a6310905"
      },
      "outputs": [
        {
          "data": {
            "text/plain": [
              "'{\"message\": \"success\", \"iss_position\": {\"longitude\": \"5.7674\", \"latitude\": \"51.5550\"}, \"timestamp\": 1715043451}'"
            ]
          },
          "execution_count": 5,
          "metadata": {},
          "output_type": "execute_result"
        }
      ],
      "source": [
        "response_status_code=requests.get(url)\n",
        "response_status_code.text\n",
        "# 양쪽에 ''가 있으면 무조건 String"
      ]
    },
    {
      "cell_type": "code",
      "execution_count": null,
      "id": "4801369c",
      "metadata": {
        "id": "4801369c",
        "outputId": "07adba32-3429-4bc0-8db0-4d988fda9147"
      },
      "outputs": [
        {
          "data": {
            "text/plain": [
              "str"
            ]
          },
          "execution_count": 6,
          "metadata": {},
          "output_type": "execute_result"
        }
      ],
      "source": [
        "type(response_status_code.text)"
      ]
    },
    {
      "cell_type": "code",
      "execution_count": null,
      "id": "c53bf8cb",
      "metadata": {
        "id": "c53bf8cb"
      },
      "outputs": [],
      "source": [
        "#웹에서 가져온 데이터는 대부분(반정형-xml, json). str(문자열)보다 분석 용이"
      ]
    },
    {
      "cell_type": "code",
      "execution_count": null,
      "id": "2424563e",
      "metadata": {
        "id": "2424563e"
      },
      "outputs": [],
      "source": [
        "import json"
      ]
    },
    {
      "cell_type": "code",
      "execution_count": null,
      "id": "4ce1cefd",
      "metadata": {
        "id": "4ce1cefd"
      },
      "outputs": [],
      "source": [
        "py_dic=json.loads(response_status_code.text)"
      ]
    },
    {
      "cell_type": "code",
      "execution_count": null,
      "id": "c0e23dcd",
      "metadata": {
        "id": "c0e23dcd",
        "outputId": "fadac932-0580-4dbe-f895-277d3c439dec"
      },
      "outputs": [
        {
          "data": {
            "text/plain": [
              "dict"
            ]
          },
          "execution_count": 9,
          "metadata": {},
          "output_type": "execute_result"
        }
      ],
      "source": [
        "type(py_dic)"
      ]
    },
    {
      "cell_type": "code",
      "execution_count": null,
      "id": "e61b45b5",
      "metadata": {
        "id": "e61b45b5",
        "outputId": "4f5b7a7f-2345-41a8-d935-2df1f052aab4"
      },
      "outputs": [
        {
          "data": {
            "text/plain": [
              "{'longitude': '5.7674', 'latitude': '51.5550'}"
            ]
          },
          "execution_count": 10,
          "metadata": {},
          "output_type": "execute_result"
        }
      ],
      "source": [
        "py_dic['iss_position']"
      ]
    },
    {
      "cell_type": "code",
      "execution_count": null,
      "id": "d650885e",
      "metadata": {
        "id": "d650885e",
        "outputId": "fff7588d-b6a6-4918-aa02-4f09bb4ac782"
      },
      "outputs": [
        {
          "data": {
            "text/plain": [
              "'5.7674'"
            ]
          },
          "execution_count": 11,
          "metadata": {},
          "output_type": "execute_result"
        }
      ],
      "source": [
        "py_dic['iss_position']['longitude']"
      ]
    },
    {
      "cell_type": "code",
      "execution_count": null,
      "id": "2d58de0e",
      "metadata": {
        "id": "2d58de0e"
      },
      "outputs": [],
      "source": [
        "# 10초마다 국제 우주정거장의 위도. 경도를 가져오는 프로그램을 짜시오."
      ]
    },
    {
      "cell_type": "code",
      "execution_count": null,
      "id": "eed1ffef",
      "metadata": {
        "id": "eed1ffef"
      },
      "outputs": [],
      "source": [
        "import time"
      ]
    },
    {
      "cell_type": "code",
      "execution_count": null,
      "id": "e497da6f",
      "metadata": {
        "id": "e497da6f",
        "outputId": "a652b750-99c5-45b2-9152-1b2929b98701"
      },
      "outputs": [
        {
          "name": "stdout",
          "output_type": "stream",
          "text": [
            "{'longitude': '70.5239', 'latitude': '28.5704'}\n",
            "{'longitude': '71.0253', 'latitude': '28.0875'}\n"
          ]
        },
        {
          "ename": "KeyboardInterrupt",
          "evalue": "",
          "output_type": "error",
          "traceback": [
            "\u001b[1;31m---------------------------------------------------------------------------\u001b[0m",
            "\u001b[1;31mKeyboardInterrupt\u001b[0m                         Traceback (most recent call last)",
            "Cell \u001b[1;32mIn[16], line 8\u001b[0m\n\u001b[0;32m      6\u001b[0m py_dic\u001b[38;5;241m=\u001b[39mjson\u001b[38;5;241m.\u001b[39mloads(response_status_code\u001b[38;5;241m.\u001b[39mtext)\n\u001b[0;32m      7\u001b[0m \u001b[38;5;28mprint\u001b[39m(py_dic[\u001b[38;5;124m'\u001b[39m\u001b[38;5;124miss_position\u001b[39m\u001b[38;5;124m'\u001b[39m])\n\u001b[1;32m----> 8\u001b[0m time\u001b[38;5;241m.\u001b[39msleep(\u001b[38;5;241m10\u001b[39m)\n",
            "\u001b[1;31mKeyboardInterrupt\u001b[0m: "
          ]
        }
      ],
      "source": [
        "url=\"http://api.open-notify.org/iss-now.json\"\n",
        "\n",
        "while True:\n",
        "    response_status_code=requests.get(url)\n",
        "    py_dic=json.loads(response_status_code.text)\n",
        "    print(py_dic['iss_position'])\n",
        "    time.sleep(10)\n",
        ""
      ]
    },
    {
      "cell_type": "code",
      "execution_count": null,
      "id": "d3ec0465",
      "metadata": {
        "id": "d3ec0465"
      },
      "outputs": [],
      "source": []
    }
  ],
  "metadata": {
    "kernelspec": {
      "display_name": "Python 3 (ipykernel)",
      "language": "python",
      "name": "python3"
    },
    "language_info": {
      "codemirror_mode": {
        "name": "ipython",
        "version": 3
      },
      "file_extension": ".py",
      "mimetype": "text/x-python",
      "name": "python",
      "nbconvert_exporter": "python",
      "pygments_lexer": "ipython3",
      "version": "3.11.5"
    },
    "colab": {
      "provenance": [],
      "include_colab_link": true
    }
  },
  "nbformat": 4,
  "nbformat_minor": 5
}